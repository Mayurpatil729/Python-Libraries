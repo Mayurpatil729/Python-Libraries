{
 "cells": [
  {
   "attachments": {},
   "cell_type": "markdown",
   "id": "cfb035b2",
   "metadata": {},
   "source": [
    "<center><h1 style = \"color:red\"> Numpy tutorial </h1></center>"
   ]
  },
  {
   "cell_type": "markdown",
   "id": "093f28d7",
   "metadata": {},
   "source": [
    "## what is numpy ? \n",
    "\n",
    "* numpy is the core library for scientific and numerical computing in python.\n",
    "\n",
    "* it provides high-performance multidimensional array objects and tools for working with arrays.\n",
    "\n",
    "* numpy main object is ndarray\n",
    "\n",
    "* in numpy dimenstions are called axes\n"
   ]
  },
  {
   "cell_type": "markdown",
   "id": "24b428d7",
   "metadata": {},
   "source": [
    "## numpy array vs python list \n",
    "\n",
    "* fast\n",
    "* conveninet\n",
    "* less memory"
   ]
  },
  {
   "cell_type": "code",
   "execution_count": 1,
   "id": "f7c14f28",
   "metadata": {},
   "outputs": [],
   "source": [
    "import numpy as np"
   ]
  },
  {
   "cell_type": "markdown",
   "id": "4541a5ee",
   "metadata": {},
   "source": [
    "### create a numpy array "
   ]
  },
  {
   "cell_type": "code",
   "execution_count": 2,
   "id": "96ac7ddf",
   "metadata": {},
   "outputs": [
    {
     "name": "stdout",
     "output_type": "stream",
     "text": [
      "[1 2 3]\n"
     ]
    }
   ],
   "source": [
    "array = np.array([1,2,3])\n",
    "print(array)"
   ]
  },
  {
   "cell_type": "code",
   "execution_count": 3,
   "id": "8ff6147f",
   "metadata": {},
   "outputs": [
    {
     "data": {
      "text/plain": [
       "1"
      ]
     },
     "execution_count": 3,
     "metadata": {},
     "output_type": "execute_result"
    }
   ],
   "source": [
    "array[0]"
   ]
  },
  {
   "cell_type": "markdown",
   "id": "922f9ed5",
   "metadata": {},
   "source": [
    "### lets see diferences between numpy array vs python list"
   ]
  },
  {
   "cell_type": "code",
   "execution_count": 2,
   "id": "49caff2b",
   "metadata": {},
   "outputs": [],
   "source": [
    "import time \n",
    "import sys"
   ]
  },
  {
   "cell_type": "markdown",
   "id": "74a50dc7",
   "metadata": {},
   "source": [
    "* #### memory usage in python list :"
   ]
  },
  {
   "cell_type": "code",
   "execution_count": 3,
   "id": "1ccdda19",
   "metadata": {},
   "outputs": [
    {
     "name": "stdout",
     "output_type": "stream",
     "text": [
      "28000\n"
     ]
    }
   ],
   "source": [
    "\n",
    "b = range (1000)\n",
    "print (sys.getsizeof(5) * len(b)) # get the memory size of value with get size of"
   ]
  },
  {
   "cell_type": "markdown",
   "id": "635f1d7a",
   "metadata": {},
   "source": [
    "* #### memory usage in numpy array :"
   ]
  },
  {
   "cell_type": "code",
   "execution_count": 6,
   "id": "513feb9e",
   "metadata": {},
   "outputs": [
    {
     "name": "stdout",
     "output_type": "stream",
     "text": [
      "4000\n"
     ]
    }
   ],
   "source": [
    "c = np.arange(1000)\n",
    "print (c.size * c.itemsize)"
   ]
  },
  {
   "cell_type": "markdown",
   "id": "78bb7cf4",
   "metadata": {},
   "source": [
    "* #### speed of python list vs numpy array :"
   ]
  },
  {
   "cell_type": "code",
   "execution_count": 7,
   "id": "afa7bd99",
   "metadata": {},
   "outputs": [],
   "source": [
    "size = 1000\n",
    "l1 = range(size)\n",
    "l2 = range(size)\n",
    "a1 = np.arange(size)\n",
    "a2 = np.arange(size)"
   ]
  },
  {
   "cell_type": "code",
   "execution_count": 8,
   "id": "4f4a526c",
   "metadata": {},
   "outputs": [
    {
     "name": "stdout",
     "output_type": "stream",
     "text": [
      "python list took 0.0\n"
     ]
    }
   ],
   "source": [
    "start  = time.time()\n",
    "result = [(x+y) for x,y in zip(l1,l2)]\n",
    "result = [(x+y) for x,y in zip(l1,l2)]\n",
    "# print(result)\n",
    "print(f\"python list took {(time.time()-start)*1000}\")"
   ]
  },
  {
   "cell_type": "code",
   "execution_count": 9,
   "id": "a45d595c",
   "metadata": {},
   "outputs": [
    {
     "name": "stdout",
     "output_type": "stream",
     "text": [
      "numpy array took 1.081705093383789\n"
     ]
    }
   ],
   "source": [
    "start = time.time()\n",
    "result2 = a1+a2\n",
    "result2 = a1+a2\n",
    "# print(result2)\n",
    "print(f\"numpy array took {(time.time()-start)*1000}\")"
   ]
  },
  {
   "cell_type": "markdown",
   "id": "195bcdff",
   "metadata": {},
   "source": [
    "## numpy basics"
   ]
  },
  {
   "cell_type": "code",
   "execution_count": 10,
   "id": "03a617e5",
   "metadata": {},
   "outputs": [
    {
     "name": "stdout",
     "output_type": "stream",
     "text": [
      "oh its wrong!!!!!\n"
     ]
    }
   ],
   "source": [
    "try:\n",
    "    a= np.array([1,2,3],[3,4,5])\n",
    "except:\n",
    "    print (\"oh its wrong!!!!!\")"
   ]
  },
  {
   "cell_type": "code",
   "execution_count": 11,
   "id": "e824a394",
   "metadata": {},
   "outputs": [
    {
     "data": {
      "text/plain": [
       "array([[1, 2, 3],\n",
       "       [3, 4, 5]])"
      ]
     },
     "execution_count": 11,
     "metadata": {},
     "output_type": "execute_result"
    }
   ],
   "source": [
    "a= np.array([[1,2,3],[3,4,5]])\n",
    "a"
   ]
  },
  {
   "cell_type": "markdown",
   "id": "d4082846",
   "metadata": {},
   "source": [
    "### dimentions :\n",
    "<img src=\"download.png\"/>"
   ]
  },
  {
   "cell_type": "code",
   "execution_count": 12,
   "id": "8a81d875",
   "metadata": {},
   "outputs": [
    {
     "data": {
      "text/plain": [
       "2"
      ]
     },
     "execution_count": 12,
     "metadata": {},
     "output_type": "execute_result"
    }
   ],
   "source": [
    "a.ndim"
   ]
  },
  {
   "cell_type": "code",
   "execution_count": 13,
   "id": "1bd7d86b",
   "metadata": {},
   "outputs": [
    {
     "data": {
      "text/plain": [
       "4"
      ]
     },
     "execution_count": 13,
     "metadata": {},
     "output_type": "execute_result"
    }
   ],
   "source": [
    "a.itemsize"
   ]
  },
  {
   "cell_type": "code",
   "execution_count": 14,
   "id": "97725c62",
   "metadata": {},
   "outputs": [
    {
     "data": {
      "text/plain": [
       "(2, 3)"
      ]
     },
     "execution_count": 14,
     "metadata": {},
     "output_type": "execute_result"
    }
   ],
   "source": [
    "a.shape"
   ]
  },
  {
   "cell_type": "code",
   "execution_count": 15,
   "id": "2ceca663",
   "metadata": {},
   "outputs": [
    {
     "name": "stdout",
     "output_type": "stream",
     "text": [
      "[[1. 2. 3.]\n",
      " [3. 4. 5.]]\n",
      "float32\n"
     ]
    }
   ],
   "source": [
    "# a = np.array([[True,0] , [\"3\",4]])\n",
    "# print(a.dtype)\n",
    "# print(a)\n",
    "# print(\"-------------------------\")\n",
    "a = np.array([[1,2,3],[3,4,5]] , dtype= np.float32)\n",
    "print(a)\n",
    "print(a.dtype)"
   ]
  },
  {
   "cell_type": "code",
   "execution_count": 16,
   "id": "23ce3464",
   "metadata": {},
   "outputs": [
    {
     "data": {
      "text/plain": [
       "4"
      ]
     },
     "execution_count": 16,
     "metadata": {},
     "output_type": "execute_result"
    }
   ],
   "source": [
    "a.itemsize"
   ]
  },
  {
   "cell_type": "code",
   "execution_count": 17,
   "id": "6f3f5bae",
   "metadata": {},
   "outputs": [
    {
     "name": "stderr",
     "output_type": "stream",
     "text": [
      "C:\\Users\\ADMIN\\AppData\\Local\\Temp\\ipykernel_31740\\4271876015.py:2: DeprecationWarning: `np.bool8` is a deprecated alias for `np.bool_`.  (Deprecated NumPy 1.24)\n",
      "  a = np.array([[1,2,3],[3,4,5]] , dtype= np.bool8)\n"
     ]
    }
   ],
   "source": [
    "a = np.array([[1,2,3],[3,4,5]] , dtype= complex)\n",
    "a = np.array([[1,2,3],[3,4,5]] , dtype= np.bool8)\n",
    "a = np.array([[1,2,3],[3,4,5]] , dtype= np.uint16)"
   ]
  },
  {
   "cell_type": "markdown",
   "id": "c2163352",
   "metadata": {},
   "source": [
    "\\* we learned abount <span style=\"color : red\">creat array, dtype , shape, itemsize, ndim </span>"
   ]
  },
  {
   "cell_type": "markdown",
   "id": "b39b895e",
   "metadata": {},
   "source": [
    "## creat other types of array in numpy :"
   ]
  },
  {
   "cell_type": "code",
   "execution_count": 18,
   "id": "53b4d6e7",
   "metadata": {},
   "outputs": [
    {
     "data": {
      "text/plain": [
       "array([[0, 0, 0],\n",
       "       [0, 0, 0]])"
      ]
     },
     "execution_count": 18,
     "metadata": {},
     "output_type": "execute_result"
    }
   ],
   "source": [
    "a = np.zeros((2,3) , dtype = np.int32)\n",
    "a"
   ]
  },
  {
   "cell_type": "code",
   "execution_count": 19,
   "id": "f9650936",
   "metadata": {},
   "outputs": [
    {
     "data": {
      "text/plain": [
       "array([[1., 1., 1.],\n",
       "       [1., 1., 1.]])"
      ]
     },
     "execution_count": 19,
     "metadata": {},
     "output_type": "execute_result"
    }
   ],
   "source": [
    "a = np.ones((2,3) )\n",
    "a"
   ]
  },
  {
   "cell_type": "code",
   "execution_count": 20,
   "id": "28a008ce",
   "metadata": {},
   "outputs": [
    {
     "data": {
      "text/plain": [
       "array([0, 1, 2, 3, 4])"
      ]
     },
     "execution_count": 20,
     "metadata": {},
     "output_type": "execute_result"
    }
   ],
   "source": [
    "a = np.arange(5)\n",
    "a"
   ]
  },
  {
   "cell_type": "code",
   "execution_count": 21,
   "id": "d5e69bcc",
   "metadata": {},
   "outputs": [
    {
     "name": "stdout",
     "output_type": "stream",
     "text": [
      "['name: rasool' 'lastname: ahadi']\n"
     ]
    }
   ],
   "source": [
    "print(np.char.add([\"name: \", \"lastname: \"] , [\"rasool\" , \"ahadi\"]))"
   ]
  },
  {
   "cell_type": "markdown",
   "id": "cf217300",
   "metadata": {},
   "source": [
    "## working in strings\n",
    "   use np.char."
   ]
  },
  {
   "cell_type": "code",
   "execution_count": 22,
   "id": "92f63e37",
   "metadata": {},
   "outputs": [
    {
     "name": "stdout",
     "output_type": "stream",
     "text": [
      "hellohellohello\n"
     ]
    }
   ],
   "source": [
    "print(np.char.multiply(\"hello\" , 3))"
   ]
  },
  {
   "cell_type": "code",
   "execution_count": 23,
   "id": "d9a234b4",
   "metadata": {},
   "outputs": [
    {
     "name": "stdout",
     "output_type": "stream",
     "text": [
      "-------hello--------\n"
     ]
    }
   ],
   "source": [
    "print(np.char.center(\"hello\" ,20 , fillchar = \"-\" ))\n",
    "#and many other char options "
   ]
  },
  {
   "cell_type": "markdown",
   "id": "2ccb861d",
   "metadata": {},
   "source": [
    "## array manipulation"
   ]
  },
  {
   "cell_type": "markdown",
   "id": "feaddd7c",
   "metadata": {},
   "source": [
    "* ### changing shape"
   ]
  },
  {
   "cell_type": "code",
   "execution_count": 24,
   "id": "812c6684",
   "metadata": {},
   "outputs": [
    {
     "name": "stdout",
     "output_type": "stream",
     "text": [
      "[0 1 2 3 4 5 6 7 8]\n",
      "-------------------\n",
      "[[0 1 2]\n",
      " [3 4 5]\n",
      " [6 7 8]]\n"
     ]
    }
   ],
   "source": [
    "\n",
    "a = np.arange(9)\n",
    "print (a)\n",
    "print(\"-------------------\")\n",
    "b = a.reshape(3,3)\n",
    "print(b)\n",
    "# b = a.reshape(5,3) #cause error because 9*3 != 9"
   ]
  },
  {
   "cell_type": "code",
   "execution_count": 25,
   "id": "84fb996d",
   "metadata": {},
   "outputs": [
    {
     "name": "stdout",
     "output_type": "stream",
     "text": [
      "[0 1 2 3 4 5 6 7 8]\n"
     ]
    }
   ],
   "source": [
    "print(b.flatten())"
   ]
  },
  {
   "cell_type": "code",
   "execution_count": 26,
   "id": "fa03c5d4",
   "metadata": {},
   "outputs": [
    {
     "data": {
      "text/plain": [
       "array([0, 3, 6, 1, 4, 7, 2, 5, 8])"
      ]
     },
     "execution_count": 26,
     "metadata": {},
     "output_type": "execute_result"
    }
   ],
   "source": [
    "b.flatten(order = \"f\") # c is default and can change to A"
   ]
  },
  {
   "cell_type": "code",
   "execution_count": 27,
   "id": "ad51766c",
   "metadata": {},
   "outputs": [
    {
     "name": "stdout",
     "output_type": "stream",
     "text": [
      "[[ 0  1  2]\n",
      " [ 3  4  5]\n",
      " [ 6  7  8]\n",
      " [ 9 10 11]]\n"
     ]
    }
   ],
   "source": [
    "a= np.arange(12).reshape(4,3)\n",
    "print(a)"
   ]
  },
  {
   "cell_type": "code",
   "execution_count": 28,
   "id": "ad8997dd",
   "metadata": {},
   "outputs": [
    {
     "data": {
      "text/plain": [
       "array([[ 0,  3,  6,  9],\n",
       "       [ 1,  4,  7, 10],\n",
       "       [ 2,  5,  8, 11]])"
      ]
     },
     "execution_count": 28,
     "metadata": {},
     "output_type": "execute_result"
    }
   ],
   "source": [
    "np.transpose(a)\n"
   ]
  },
  {
   "cell_type": "code",
   "execution_count": 29,
   "id": "51de47df",
   "metadata": {},
   "outputs": [
    {
     "name": "stdout",
     "output_type": "stream",
     "text": [
      "[[0 1 2 3]\n",
      " [4 5 6 7]]\n"
     ]
    }
   ],
   "source": [
    "b = np.arange(8).reshape(2,4)\n",
    "print(b)"
   ]
  },
  {
   "cell_type": "code",
   "execution_count": 30,
   "id": "f78556a7",
   "metadata": {},
   "outputs": [
    {
     "data": {
      "text/plain": [
       "array([[[0, 1],\n",
       "        [2, 3]],\n",
       "\n",
       "       [[4, 5],\n",
       "        [6, 7]]])"
      ]
     },
     "execution_count": 30,
     "metadata": {},
     "output_type": "execute_result"
    }
   ],
   "source": [
    "c = b.reshape(2,2,2)\n",
    "c"
   ]
  },
  {
   "cell_type": "code",
   "execution_count": 31,
   "id": "007d7248",
   "metadata": {},
   "outputs": [
    {
     "data": {
      "text/plain": [
       "array([[[0, 2],\n",
       "        [4, 6]],\n",
       "\n",
       "       [[1, 3],\n",
       "        [5, 7]]])"
      ]
     },
     "execution_count": 31,
     "metadata": {},
     "output_type": "execute_result"
    }
   ],
   "source": [
    "np.rollaxis(c, 2)"
   ]
  },
  {
   "cell_type": "markdown",
   "id": "1d09f1c9",
   "metadata": {},
   "source": [
    "## numpy arithematic operations"
   ]
  },
  {
   "cell_type": "code",
   "execution_count": 32,
   "id": "84d9c263",
   "metadata": {},
   "outputs": [
    {
     "data": {
      "text/plain": [
       "array([[0, 1, 2],\n",
       "       [3, 4, 5],\n",
       "       [6, 7, 8]])"
      ]
     },
     "execution_count": 32,
     "metadata": {},
     "output_type": "execute_result"
    }
   ],
   "source": [
    "a = np.arange(9).reshape(3,3)\n",
    "a\n"
   ]
  },
  {
   "cell_type": "code",
   "execution_count": 33,
   "id": "1cef9ef9",
   "metadata": {},
   "outputs": [
    {
     "data": {
      "text/plain": [
       "array([10, 11, 12])"
      ]
     },
     "execution_count": 33,
     "metadata": {},
     "output_type": "execute_result"
    }
   ],
   "source": [
    "b = np.array([10,11,12])\n",
    "b"
   ]
  },
  {
   "cell_type": "code",
   "execution_count": 34,
   "id": "c281e6f9",
   "metadata": {},
   "outputs": [
    {
     "data": {
      "text/plain": [
       "array([[10, 12, 14],\n",
       "       [13, 15, 17],\n",
       "       [16, 18, 20]])"
      ]
     },
     "execution_count": 34,
     "metadata": {},
     "output_type": "execute_result"
    }
   ],
   "source": [
    "np.add(a,b)"
   ]
  },
  {
   "cell_type": "code",
   "execution_count": 35,
   "id": "63ef5ef5",
   "metadata": {
    "scrolled": true
   },
   "outputs": [
    {
     "data": {
      "text/plain": [
       "array([[-10, -10, -10],\n",
       "       [ -7,  -7,  -7],\n",
       "       [ -4,  -4,  -4]])"
      ]
     },
     "execution_count": 35,
     "metadata": {},
     "output_type": "execute_result"
    }
   ],
   "source": [
    "np.subtract(a,b)\n",
    "# np.multiply\n",
    "# np.divide"
   ]
  },
  {
   "cell_type": "code",
   "execution_count": 36,
   "id": "55bcd89c",
   "metadata": {},
   "outputs": [
    {
     "data": {
      "text/plain": [
       "array([[10, 12, 14],\n",
       "       [13, 15, 17],\n",
       "       [16, 18, 20]])"
      ]
     },
     "execution_count": 36,
     "metadata": {},
     "output_type": "execute_result"
    }
   ],
   "source": [
    "a+b\n",
    "# a-b\n",
    "# a*b\n",
    "# a/b"
   ]
  },
  {
   "cell_type": "markdown",
   "id": "b66e55e8",
   "metadata": {},
   "source": [
    "<p style=\"color:red , font-size:15px\"> add, subtract, multiply and divide </p> "
   ]
  },
  {
   "cell_type": "markdown",
   "id": "96197a50",
   "metadata": {},
   "source": [
    "## slicing"
   ]
  },
  {
   "cell_type": "code",
   "execution_count": 37,
   "id": "a8199520",
   "metadata": {},
   "outputs": [
    {
     "data": {
      "text/plain": [
       "array([ 0,  1,  2,  3,  4,  5,  6,  7,  8,  9, 10, 11, 12, 13, 14, 15, 16,\n",
       "       17, 18, 19])"
      ]
     },
     "execution_count": 37,
     "metadata": {},
     "output_type": "execute_result"
    }
   ],
   "source": [
    "a = np.arange(20)\n",
    "a"
   ]
  },
  {
   "cell_type": "code",
   "execution_count": 38,
   "id": "a279b8f8",
   "metadata": {},
   "outputs": [
    {
     "data": {
      "text/plain": [
       "array([ 4,  5,  6,  7,  8,  9, 10, 11, 12, 13, 14, 15, 16, 17, 18, 19])"
      ]
     },
     "execution_count": 38,
     "metadata": {},
     "output_type": "execute_result"
    }
   ],
   "source": [
    "a[4:]\n",
    "# a[:4] #like slicing in python"
   ]
  },
  {
   "cell_type": "code",
   "execution_count": 39,
   "id": "18faa6e3",
   "metadata": {},
   "outputs": [],
   "source": [
    "# and other nd slicing"
   ]
  },
  {
   "cell_type": "markdown",
   "id": "5322328e",
   "metadata": {},
   "source": [
    "## iterating over array"
   ]
  },
  {
   "cell_type": "code",
   "execution_count": 40,
   "id": "360ecaad",
   "metadata": {},
   "outputs": [
    {
     "data": {
      "text/plain": [
       "array([ 0,  5, 10, 15, 20, 25, 30, 35, 40])"
      ]
     },
     "execution_count": 40,
     "metadata": {},
     "output_type": "execute_result"
    }
   ],
   "source": [
    "a = np.arange(0,45,5)\n",
    "a"
   ]
  },
  {
   "cell_type": "code",
   "execution_count": 41,
   "id": "ee69b776",
   "metadata": {},
   "outputs": [
    {
     "data": {
      "text/plain": [
       "array([[ 0,  5, 10],\n",
       "       [15, 20, 25],\n",
       "       [30, 35, 40]])"
      ]
     },
     "execution_count": 41,
     "metadata": {},
     "output_type": "execute_result"
    }
   ],
   "source": [
    "a= a.reshape(3,3)\n",
    "a"
   ]
  },
  {
   "cell_type": "code",
   "execution_count": 42,
   "id": "081960e4",
   "metadata": {},
   "outputs": [
    {
     "name": "stdout",
     "output_type": "stream",
     "text": [
      "0\n",
      "5\n",
      "10\n",
      "15\n",
      "20\n",
      "25\n",
      "30\n",
      "35\n",
      "40\n"
     ]
    }
   ],
   "source": [
    "for x in np.nditer(a):\n",
    "    print(x)"
   ]
  },
  {
   "cell_type": "code",
   "execution_count": 43,
   "id": "9cab4e6a",
   "metadata": {},
   "outputs": [
    {
     "name": "stdout",
     "output_type": "stream",
     "text": [
      "0\n",
      "5\n",
      "10\n",
      "15\n",
      "20\n",
      "25\n",
      "30\n",
      "35\n",
      "40\n",
      "-------------------\n",
      "0\n",
      "15\n",
      "30\n",
      "5\n",
      "20\n",
      "35\n",
      "10\n",
      "25\n",
      "40\n"
     ]
    }
   ],
   "source": [
    "for x in np.nditer(a, order = \"c\"):\n",
    "    print(x)\n",
    "print(\"-------------------\")\n",
    "for x in np.nditer(a, order = \"f\"):\n",
    "    print(x)"
   ]
  },
  {
   "cell_type": "markdown",
   "id": "1b80ddf9",
   "metadata": {},
   "source": [
    "## joining arrays"
   ]
  },
  {
   "cell_type": "code",
   "execution_count": 44,
   "id": "49a65686",
   "metadata": {},
   "outputs": [
    {
     "name": "stdout",
     "output_type": "stream",
     "text": [
      "[[1 2]\n",
      " [3 4]]\n",
      "----------\n",
      "[[5 6]\n",
      " [7 8]]\n"
     ]
    }
   ],
   "source": [
    "a = np.array([[1,2], [3,4]])\n",
    "print (a)\n",
    "print(\"----------\")\n",
    "b = np.array([[5,6],[7,8]])\n",
    "print(b)"
   ]
  },
  {
   "cell_type": "code",
   "execution_count": 45,
   "id": "d06ca4c7",
   "metadata": {},
   "outputs": [
    {
     "data": {
      "text/plain": [
       "array([[1, 2],\n",
       "       [3, 4],\n",
       "       [5, 6],\n",
       "       [7, 8]])"
      ]
     },
     "execution_count": 45,
     "metadata": {},
     "output_type": "execute_result"
    }
   ],
   "source": [
    "np.concatenate((a,b)) # axis = 0 "
   ]
  },
  {
   "cell_type": "code",
   "execution_count": 46,
   "id": "186605f5",
   "metadata": {},
   "outputs": [
    {
     "data": {
      "text/plain": [
       "array([[1, 2, 5, 6],\n",
       "       [3, 4, 7, 8]])"
      ]
     },
     "execution_count": 46,
     "metadata": {},
     "output_type": "execute_result"
    }
   ],
   "source": [
    "np.concatenate((a,b),axis = 1)"
   ]
  },
  {
   "cell_type": "markdown",
   "id": "ef917d5a",
   "metadata": {},
   "source": [
    "## spliting array"
   ]
  },
  {
   "cell_type": "code",
   "execution_count": 47,
   "id": "56251ee3",
   "metadata": {},
   "outputs": [
    {
     "name": "stdout",
     "output_type": "stream",
     "text": [
      "[0 1 2 3 4 5 6 7 8]\n"
     ]
    },
    {
     "data": {
      "text/plain": [
       "[array([0, 1, 2]), array([3, 4, 5]), array([6, 7, 8])]"
      ]
     },
     "execution_count": 47,
     "metadata": {},
     "output_type": "execute_result"
    }
   ],
   "source": [
    "a = np.arange(9)\n",
    "print(a)\n",
    "np.split(a,3)"
   ]
  },
  {
   "cell_type": "code",
   "execution_count": 48,
   "id": "e5f5436c",
   "metadata": {},
   "outputs": [
    {
     "data": {
      "text/plain": [
       "[array([0, 1, 2, 3]), array([4]), array([5, 6, 7, 8])]"
      ]
     },
     "execution_count": 48,
     "metadata": {},
     "output_type": "execute_result"
    }
   ],
   "source": [
    "np.split(a,[4,5]) # what??? => thats ok dont panic"
   ]
  },
  {
   "cell_type": "markdown",
   "id": "32c66fba",
   "metadata": {},
   "source": [
    "## resizung an array"
   ]
  },
  {
   "cell_type": "code",
   "execution_count": 49,
   "id": "d43a0637",
   "metadata": {},
   "outputs": [
    {
     "name": "stdout",
     "output_type": "stream",
     "text": [
      "[[1 2 3]\n",
      " [4 5 6]]\n",
      "(2, 3)\n",
      "----\n",
      "[[1 2]\n",
      " [3 4]\n",
      " [5 6]]\n"
     ]
    }
   ],
   "source": [
    "a = np.array([[1,2,3],[4,5,6]])\n",
    "print(a)\n",
    "print(a.shape)\n",
    "print(\"----\")\n",
    "b = np.resize(a,(3,2))\n",
    "print(b)"
   ]
  },
  {
   "cell_type": "code",
   "execution_count": 50,
   "id": "3cb01c29",
   "metadata": {},
   "outputs": [
    {
     "name": "stdout",
     "output_type": "stream",
     "text": [
      "[[1 2 3]\n",
      " [4 5 6]\n",
      " [1 2 3]]\n"
     ]
    }
   ],
   "source": [
    "b = np.resize(a,(3,3))\n",
    "print(b)"
   ]
  },
  {
   "cell_type": "markdown",
   "id": "85b53a35",
   "metadata": {},
   "source": [
    "## histogram"
   ]
  },
  {
   "cell_type": "code",
   "execution_count": 51,
   "id": "f1ab7c70",
   "metadata": {},
   "outputs": [
    {
     "data": {
      "image/png": "[encoded data removed]",
      "text/plain": [
       "<Figure size 640x480 with 1 Axes>"
      ]
     },
     "metadata": {},
     "output_type": "display_data"
    }
   ],
   "source": [
    "from matplotlib import pyplot as plt\n",
    "a = np.array([10, 10 ,10 ,10,11,11,2,2,2,2,2,2,2,2,33,44])\n",
    "plt.hist(a)\n",
    "plt.title(\"histogram\")\n",
    "plt.show()"
   ]
  },
  {
   "cell_type": "markdown",
   "id": "25fc461c",
   "metadata": {},
   "source": [
    "## other useful functions in numpy"
   ]
  },
  {
   "cell_type": "code",
   "execution_count": 52,
   "id": "22fdb661",
   "metadata": {},
   "outputs": [
    {
     "data": {
      "text/plain": [
       "array([1.        , 1.22222222, 1.44444444, 1.66666667, 1.88888889,\n",
       "       2.11111111, 2.33333333, 2.55555556, 2.77777778, 3.        ])"
      ]
     },
     "execution_count": 52,
     "metadata": {},
     "output_type": "execute_result"
    }
   ],
   "source": [
    "a = np.linspace(1,3,10)\n",
    "a"
   ]
  },
  {
   "cell_type": "code",
   "execution_count": 53,
   "id": "53d7ad29",
   "metadata": {},
   "outputs": [
    {
     "name": "stdout",
     "output_type": "stream",
     "text": [
      "[5 7 9]\n"
     ]
    }
   ],
   "source": [
    "a = np.array([[1,2,3],[4,5,6]])\n",
    "print(a.sum(axis=0))"
   ]
  },
  {
   "cell_type": "code",
   "execution_count": 54,
   "id": "6d732f58",
   "metadata": {},
   "outputs": [
    {
     "name": "stdout",
     "output_type": "stream",
     "text": [
      "[[1.         1.41421356 1.73205081]\n",
      " [2.         2.23606798 2.44948974]]\n",
      "1.707825127659933\n"
     ]
    }
   ],
   "source": [
    "print(np.sqrt(a))\n",
    "print(np.std(a))"
   ]
  },
  {
   "cell_type": "code",
   "execution_count": 55,
   "id": "85f243bc",
   "metadata": {},
   "outputs": [
    {
     "name": "stdout",
     "output_type": "stream",
     "text": [
      "[1.         1.22222222 1.44444444 1.66666667 1.88888889 2.11111111\n",
      " 2.33333333 2.55555556 2.77777778 3.        ]\n"
     ]
    }
   ],
   "source": [
    "a=np.linspace(1,3,10)\n",
    "print(a)"
   ]
  },
  {
   "cell_type": "code",
   "execution_count": 56,
   "id": "a51004ff",
   "metadata": {},
   "outputs": [
    {
     "name": "stdout",
     "output_type": "stream",
     "text": [
      "[4 6 8]\n",
      "-------------------\n",
      "[ 6 12]\n"
     ]
    }
   ],
   "source": [
    "a=np.array([(1,2,3),(3,4,5)])\n",
    "print(a.sum(axis=0)) \n",
    "print('-------------------')\n",
    "print(a.sum(axis=1))"
   ]
  },
  {
   "cell_type": "code",
   "execution_count": 57,
   "id": "9ff32be2",
   "metadata": {},
   "outputs": [
    {
     "name": "stdout",
     "output_type": "stream",
     "text": [
      "[1 2 3 3 4 5]\n"
     ]
    }
   ],
   "source": [
    "x=np.array([(1,2,3),(3,4,5)])\n",
    "print(x.ravel()) #return flatten python list of all data"
   ]
  },
  {
   "cell_type": "code",
   "execution_count": 58,
   "id": "a26e8669",
   "metadata": {},
   "outputs": [
    {
     "name": "stdout",
     "output_type": "stream",
     "text": [
      "[0.         0.30103    0.47712125]\n"
     ]
    }
   ],
   "source": [
    "a=np.array([1,2,3])\n",
    "print(np.log10(a)) #return an array with Base-10 logarithmic value of a"
   ]
  }
 ],
 "metadata": {
  "kernelspec": {
   "display_name": "Python 3",
   "language": "python",
   "name": "python3"
  },
  "language_info": {
   "codemirror_mode": {
    "name": "ipython",
    "version": 3
   },
   "file_extension": ".py",
   "mimetype": "text/x-python",
   "name": "python",
   "nbconvert_exporter": "python",
   "pygments_lexer": "ipython3",
   "version": "3.10.11"
  },
  "vscode": {
   "interpreter": {
    "hash": "e3a928b85d63b2ef9b6ccf12e8d329d0cbc7130b7b94533fcc116c9895f7d050"
   }
  }
 },
 "nbformat": 4,
 "nbformat_minor": 5
}
