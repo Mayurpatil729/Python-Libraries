{
 "cells": [
  {
   "cell_type": "code",
   "execution_count": 4,
   "metadata": {},
   "outputs": [
    {
     "name": "stdout",
     "output_type": "stream",
     "text": [
      "The Time taken :  0:00:00.025751\n"
     ]
    }
   ],
   "source": [
    "# DOT PRODUCT\n",
    "import numpy as np\n",
    "from datetime import datetime\n",
    "\n",
    "a=np.array([10,20,30])\n",
    "b=np.array([1,2,3])\n",
    "\n",
    "def dot_product(a,b):\n",
    "    result=0\n",
    "    for m,n in zip(a,b):\n",
    "        result=result+m*n\n",
    "    #print(\"The dot product : \",result)\n",
    "    return result\n",
    "\n",
    "before=datetime.now()\n",
    "for i in range(10000):\n",
    "    (dot_product(a,b))\n",
    "after=datetime.now()\n",
    "print('The Time taken : ',after-before)"
   ]
  },
  {
   "cell_type": "code",
   "execution_count": 8,
   "metadata": {},
   "outputs": [
    {
     "name": "stdout",
     "output_type": "stream",
     "text": [
      "The Time taken :  0:00:00.027022\n"
     ]
    }
   ],
   "source": [
    "# DOT PRODUCT\n",
    "import numpy as np\n",
    "from datetime import datetime\n",
    "\n",
    "a = np.array([10, 20, 30])\n",
    "b = np.array([1, 2, 3])\n",
    "\n",
    "\n",
    "def dot_product(a, b):\n",
    "    result = 0\n",
    "    for m, n in zip(a, b):\n",
    "        result = result+m*n\n",
    "    # print(\"The dot product : \",result)\n",
    "    return result\n",
    "\n",
    "\n",
    "before = datetime.now()\n",
    "for i in range(10000):\n",
    "    np.dot(a,b)\n",
    "after = datetime.now()\n",
    "print('The Time taken : ', after-before)"
   ]
  },
  {
   "cell_type": "code",
   "execution_count": 14,
   "metadata": {},
   "outputs": [
    {
     "name": "stdout",
     "output_type": "stream",
     "text": [
      "The size of numpy array :  172\n",
      "The size of numpy list :  184\n"
     ]
    }
   ],
   "source": [
    "import numpy\n",
    "import sys\n",
    "a=numpy.array([10, 30, 40, 10, 20, 30, 40, 19, 20, 30, 40, 10, 20, 30, 40])\n",
    "l = [10, 30, 40, 10, 20, 30, 40, 19, 20, 30, 40, 10, 20, 30, 40]\n",
    "print(\"The size of numpy array : \",sys.getsizeof(a)) \n",
    "print(\"The size of numpy list : \",sys.getsizeof(l)) \n"
   ]
  },
  {
   "cell_type": "code",
   "execution_count": 1,
   "metadata": {},
   "outputs": [
    {
     "name": "stdout",
     "output_type": "stream",
     "text": [
      "3.34 µs ± 41.5 ns per loop (mean ± std. dev. of 7 runs, 100,000 loops each)\n"
     ]
    }
   ],
   "source": [
    "%timeit [j**4 for j in range(1,9)]"
   ]
  },
  {
   "cell_type": "code",
   "execution_count": 2,
   "metadata": {},
   "outputs": [
    {
     "name": "stdout",
     "output_type": "stream",
     "text": [
      "2.8 µs ± 165 ns per loop (mean ± std. dev. of 7 runs, 100,000 loops each)\n"
     ]
    }
   ],
   "source": [
    "import numpy as np\n",
    "\n",
    "%timeit np.arange(1,9)**4"
   ]
  },
  {
   "cell_type": "code",
   "execution_count": null,
   "metadata": {},
   "outputs": [],
   "source": []
  }
 ],
 "metadata": {
  "kernelspec": {
   "display_name": "Python 3",
   "language": "python",
   "name": "python3"
  },
  "language_info": {
   "codemirror_mode": {
    "name": "ipython",
    "version": 3
   },
   "file_extension": ".py",
   "mimetype": "text/x-python",
   "name": "python",
   "nbconvert_exporter": "python",
   "pygments_lexer": "ipython3",
   "version": "3.10.10"
  },
  "orig_nbformat": 4,
  "vscode": {
   "interpreter": {
    "hash": "e3a928b85d63b2ef9b6ccf12e8d329d0cbc7130b7b94533fcc116c9895f7d050"
   }
  }
 },
 "nbformat": 4,
 "nbformat_minor": 2
}
