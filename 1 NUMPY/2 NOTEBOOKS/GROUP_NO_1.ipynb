{
  "cells": [
    {
      "cell_type": "markdown",
      "metadata": {
        "id": "dWRy2k8d_u5H"
      },
      "source": [
        "##                               **Mathematics for Intelligent Systems (TA - 3 Activity)**"
      ]
    },
    {
      "cell_type": "markdown",
      "metadata": {
        "id": "4dovB9LMP7T7"
      },
      "source": [
        "**TEAM DETAILS (GROUP 1)**\n",
        "\n",
        "**Prn_Name_Roll_No**\n",
        "\n",
        "\n",
        "**A) 211106001_Divya_Madhukar_Nimbalkar_01**\n",
        "\n",
        "**B) 211106002_Uday_Dineshkumar_Bhartiya_02**\n",
        "\n",
        "**C) 211106003_Sagar_Manoj_Nikam_03**\n",
        "\n",
        "**D) 211106004_Mayur_Prafulla_Patil_04**\n",
        "\n",
        "**E) 211106005_Mahima_Chatur_Masule_05**"
      ]
    },
    {
      "cell_type": "markdown",
      "metadata": {
        "id": "NvDiC2ko59Zd"
      },
      "source": [
        "## **Matrix Operations**"
      ]
    },
    {
      "cell_type": "markdown",
      "metadata": {
        "id": "gwgwROEL-Yxk"
      },
      "source": [
        "**Menu Driven Program for Matrix Operation >> \n",
        " 1) Addition\n",
        " 2) Substraction\n",
        " 3) Multiplication\n",
        "4) Transpose**"
      ]
    },
    {
      "cell_type": "code",
      "execution_count": 2,
      "metadata": {
        "colab": {
          "background_save": true,
          "base_uri": "https://localhost:8080/"
        },
        "id": "i5z-CPyJ7Wx0",
        "outputId": "3a5e5d0b-c763-471a-c3c7-5db3cfb37e6d"
      },
      "outputs": [
        {
          "name": "stdout",
          "output_type": "stream",
          "text": [
            "Enter matrices :\n",
            "Enter Dimentions of matrix [A] : \n"
          ]
        },
        {
          "ename": "ValueError",
          "evalue": "invalid literal for int() with base 10: ''",
          "output_type": "error",
          "traceback": [
            "\u001b[1;31m---------------------------------------------------------------------------\u001b[0m",
            "\u001b[1;31mValueError\u001b[0m                                Traceback (most recent call last)",
            "Cell \u001b[1;32mIn [2], line 88\u001b[0m\n\u001b[0;32m     86\u001b[0m \u001b[39mprint\u001b[39m(\u001b[39m'\u001b[39m\u001b[39mEnter matrices :\u001b[39m\u001b[39m'\u001b[39m)\n\u001b[0;32m     87\u001b[0m \u001b[39mprint\u001b[39m(\u001b[39mf\u001b[39m\u001b[39m'\u001b[39m\u001b[39mEnter Dimentions of matrix [A] : \u001b[39m\u001b[39m'\u001b[39m)\n\u001b[1;32m---> 88\u001b[0m row_a \u001b[39m=\u001b[39m \u001b[39mint\u001b[39;49m(\u001b[39minput\u001b[39;49m(\u001b[39m'\u001b[39;49m\u001b[39mEnter rows of first matrix : \u001b[39;49m\u001b[39m'\u001b[39;49m))\n\u001b[0;32m     89\u001b[0m column_a \u001b[39m=\u001b[39m \u001b[39mint\u001b[39m(\u001b[39minput\u001b[39m(\u001b[39m'\u001b[39m\u001b[39mEnter columns of first matrix : \u001b[39m\u001b[39m'\u001b[39m))\n\u001b[0;32m     90\u001b[0m \u001b[39mprint\u001b[39m(\u001b[39m'\u001b[39m\u001b[39mEnter elements : \u001b[39m\u001b[39m'\u001b[39m)\n",
            "\u001b[1;31mValueError\u001b[0m: invalid literal for int() with base 10: ''"
          ]
        }
      ],
      "source": [
        "# Function for create Matrix\n",
        "def CreateMatrix(rows, columns):\n",
        "    Matrix = []\n",
        "    for r in range(rows):\n",
        "        r = []\n",
        "        for i in range(columns):\n",
        "            r.append(int(input()))\n",
        "        Matrix.append(r)\n",
        "    return Matrix\n",
        "\n",
        "def PrintMat(m, row_a, column_a, row_b, column_b):\n",
        "\n",
        "    for i in m:\n",
        "        print(i)\n",
        "        # for j in range(column_b):\n",
        "        #     print(m[i][j], end=\"  \")\n",
        "        # print()\n",
        "\n",
        "# Function for Addition of Matix\n",
        "def MatrixAdd(A, B, row_a, column_a, row_b, column_b):\n",
        "\n",
        "    c = []\n",
        "    for i in range(row_a):\n",
        "        r = []\n",
        "        for j in range(column_a):\n",
        "                r.append(A[i][j]+B[i][j])\n",
        "        c.append(c)\n",
        "\n",
        "# Function for Substraction of Matix\n",
        "def MatrixSub(A, B, row_a, column_a, row_b, column_b):\n",
        "    c = []\n",
        "    for i in range(row_a):\n",
        "        r = []\n",
        "        for j in range(column_a):\n",
        "                r.append(A[i][j]-B[i][j])\n",
        "        c.append(r)\n",
        "\n",
        "    print('addition')\n",
        "    PrintMat(c, row_a, column_a, row_b, column_b)\n",
        "\n",
        "# Function for Multiplication of Matrix \n",
        "def MatMult(A, B, row_a, column_a, row_b, column_b):\n",
        "    d = []\n",
        "    for c in range(row_a):\n",
        "        x = []\n",
        "        for r in range(column_b):\n",
        "            e = 0\n",
        "            for k in range(column_a):\n",
        "                e += A[c][k]*B[k][r]\n",
        "            x.append(e)\n",
        "        d.append(x)\n",
        "\n",
        "    print('multiplication')\n",
        "    PrintMat(d, row_a, column_a, row_b, column_b)\n",
        "\n",
        "# Function for Transpose of Matrix\n",
        "def MatTrans(A, B, row_a, column_a, row_b, column_b):\n",
        "    resultA = [[0,0,0],\n",
        "              [0,0,0]]\n",
        "\n",
        "    # iterate through rows of A\n",
        "    for i in range(len(A)):\n",
        "       # iterate through columns of A\n",
        "       for j in range(len(A[0])):\n",
        "           resultA[j][i] = A[i][j]\n",
        "\n",
        "    print(\"\\nTranspose of A:\\n\")\n",
        "    for ra in resultA:\n",
        "       print(ra)\n",
        "\n",
        "    resultB = [[0,0,0],\n",
        "              [0,0,0]]\n",
        "\n",
        "    \n",
        "    # iterate through rows of B\n",
        "    for i in range(len(B)):\n",
        "       # iterate through columns of B\n",
        "       for j in range(len(B[0])):\n",
        "           resultB[j][i] = B[i][j]\n",
        "\n",
        "    print(\"\\nTranspose of B:\\n\")\n",
        "    for rb in resultB:\n",
        "       print(rb)\n",
        "\n",
        "flag = 0\n",
        "print('Enter matrices :')\n",
        "print(f'Enter Dimentions of matrix [A] : ')\n",
        "row_a = int(input('Enter rows of first matrix : '))\n",
        "column_a = int(input('Enter columns of first matrix : '))\n",
        "print('Enter elements : ')\n",
        "\n",
        "A = CreateMatrix(row_a, column_a)\n",
        "print('\\n[A] =')\n",
        "for i in A:\n",
        "  print(i)\n",
        "\n",
        "print('\\nEnter elements of matrix [B] : ')\n",
        "row_b = int(input('Enter rows of second matrix : '))\n",
        "column_b = int(input('Enter columns of second matrix : '))\n",
        "print('Enter elements : ')\n",
        "\n",
        "B = CreateMatrix(row_b, column_b)\n",
        "print('\\n[B] =')\n",
        "for i in B:\n",
        "  print(i)\n",
        "\n",
        "print('\\n\\t*************Matrix operations****************')\n",
        "print('\\n1] Addition of two matrices')\n",
        "print('2] Subtraction of two matrices')\n",
        "print('3] Multiplication of two matrices')\n",
        "print('4] Transpose of A & B matrices')\n",
        "print('5] Exit')\n",
        "button = int(input('Enter choice : '))\n",
        "if button not in range(1, 6):\n",
        "  print('Wrong input')\n",
        "  flag = 1\n",
        "  exit()\n",
        "\n",
        "if button == 1 or button == 2:\n",
        "  if row_a != row_b or column_a != column_b:\n",
        "    print('\\n\\tDimention Error !!')\n",
        "    exit()\n",
        "elif button == 3:\n",
        "  if row_a !=  column_b:\n",
        "    print('\\n\\tDimention Error !!')\n",
        "    exit()\n",
        "\n",
        "\n",
        "if button == 1:\n",
        "  MatrixAdd(A, B, row_a, column_a, row_b, column_b)\n",
        "elif button == 2:\n",
        "  MatrixSub(A, B, row_a, column_a, row_b, column_b)\n",
        "elif button == 3:\n",
        "  MatMult(A, B, row_a, column_a, row_b, column_b)\n",
        "elif button == 4:\n",
        "  MatTrans(A, B, row_a, column_a, row_b, column_b)\n",
        "elif button == 5:\n",
        "  exit()\n",
        "\n",
        "print('\\n\\nExiting the Program ...')"
      ]
    },
    {
      "cell_type": "markdown",
      "metadata": {
        "id": "oxCRyBHDzP0l"
      },
      "source": [
        "## **Function for uniform outcome**"
      ]
    },
    {
      "cell_type": "markdown",
      "metadata": {
        "id": "vrKC4mt2zdIa"
      },
      "source": [
        "**n : number of outcomes in the sample space**\n",
        "\n",
        " ***Output: m outcomes selected uniformly at random from 1 to n***"
      ]
    },
    {
      "cell_type": "code",
      "execution_count": null,
      "metadata": {
        "id": "n4CEjskgA4BL"
      },
      "outputs": [],
      "source": [
        "import numpy as np"
      ]
    },
    {
      "cell_type": "code",
      "execution_count": null,
      "metadata": {
        "id": "pU2kqgEa0Hst"
      },
      "outputs": [],
      "source": [
        "\n",
        "def uniform(m,n):\n",
        "  return np.random.randint(1,n+1,m)"
      ]
    },
    {
      "cell_type": "markdown",
      "metadata": {
        "id": "t9E0t9bnJIxG"
      },
      "source": [
        "## **Estimating probability by simulation - Monte Carlo** "
      ]
    },
    {
      "cell_type": "markdown",
      "metadata": {
        "id": "8IsooZcNniQj"
      },
      "source": [
        "**The probability of an event A can be estimated as follows. We can simulate the** **experiment repeatedly and independently, say N times, and**\n",
        "**count the number of times the event occurred, say NA**\n",
        "\n",
        "**A good estimate of P(A) is the following :** \n",
        "\n",
        "###                                    P(A) ≈ NA/N \n",
        "                  \n",
        "**As N grows larger and larger, the estimate becomes better and better. This method is generally termed as Monte Carlo simulation.** "
      ]
    },
    {
      "cell_type": "code",
      "execution_count": null,
      "metadata": {
        "colab": {
          "base_uri": "https://localhost:8080/"
        },
        "id": "qrYiVtnOwHIa",
        "outputId": "df97e9c7-c8d7-403d-eb1f-f2156f1fe261"
      },
      "outputs": [
        {
          "name": "stdout",
          "output_type": "stream",
          "text": [
            "Head\n"
          ]
        }
      ],
      "source": [
        "a = uniform(1, 2)\n",
        "\n",
        "if a == 1:\n",
        "    print(\"Head\")\n",
        "else:\n",
        "    print(\"Tail\")"
      ]
    },
    {
      "cell_type": "code",
      "execution_count": null,
      "metadata": {
        "colab": {
          "base_uri": "https://localhost:8080/"
        },
        "id": "CavvzvJ3wQHx",
        "outputId": "cc6cd115-3b16-4387-ed39-0fbde6c3f3b6"
      },
      "outputs": [
        {
          "name": "stdout",
          "output_type": "stream",
          "text": [
            "toss : 0.514\n"
          ]
        }
      ],
      "source": [
        "# Coin toss\n",
        "bet=0; \n",
        "for i in range(1000):\n",
        "    res = uniform(1,2);\n",
        "    if res == 1:\n",
        "        bet+=1;\n",
        "print('toss :',bet/1000)"
      ]
    },
    {
      "cell_type": "markdown",
      "metadata": {
        "id": "11Zi0EFi0muw"
      },
      "source": [
        "## **Probability of die showing a number**"
      ]
    },
    {
      "cell_type": "markdown",
      "metadata": {
        "id": "Wgl4xxun0qPZ"
      },
      "source": [
        "We will modify the Monte Carlo simulation above for finding the probability that a dies shows a number falling in an event . You will see that\n",
        "the estimate is close to . If you change the loop iterations to 10000, the estimate will be much closer to and more consistent as\n",
        "well."
      ]
    },
    {
      "cell_type": "code",
      "execution_count": null,
      "metadata": {
        "colab": {
          "base_uri": "https://localhost:8080/"
        },
        "id": "FAbBJcpG0wWK",
        "outputId": "c310c04f-5f0b-41af-8723-fe525463696c"
      },
      "outputs": [
        {
          "name": "stdout",
          "output_type": "stream",
          "text": [
            "Probability is  0.1637\n"
          ]
        }
      ],
      "source": [
        "#Monte-Carlo Simulation in Python\n",
        "res = 0\n",
        "\n",
        "# Make 10000 experiments\n",
        "for a in range(10000):\n",
        "    if uniform(1,6) == 1:\n",
        "      res = res + 1\n",
        "die_res = res/10000\n",
        "print(\"Probability is \",die_res)"
      ]
    },
    {
      "cell_type": "markdown",
      "metadata": {
        "id": "Cx4M-nxY6Sap"
      },
      "source": [
        "## **Casino die game**"
      ]
    },
    {
      "cell_type": "markdown",
      "metadata": {
        "id": "lLh-Y6el6a0g"
      },
      "source": [
        "Throw a pair of die. A player bets units of money on whether the sum of the two numbers is Under 7 or Over 7, and units on Equal to 7.\n",
        "\n",
        "For Under 7 and Over 7, the returns are a:1, while, for Equal to 7, the returns are b:1, if the player wins the bet. If the bet is lost, the unit of money\n",
        "goes to the casino.\n",
        "\n",
        "The strategy for betting will be to independently and randomly select one of the 3 bets. The simulation will track the average return over a large\n",
        "number of trails."
      ]
    },
    {
      "cell_type": "code",
      "execution_count": 1,
      "metadata": {
        "colab": {
          "base_uri": "https://localhost:8080/"
        },
        "id": "3IbwmE9kKh1V",
        "outputId": "127df80f-3a45-45d2-906b-6771544439ee"
      },
      "outputs": [
        {
          "name": "stdout",
          "output_type": "stream",
          "text": [
            "Expected gain :  -0.5\n",
            "Simulated gain :  -0.5400000000000005\n",
            "Round of Simulated gain :  -0.5\n"
          ]
        }
      ],
      "source": [
        "import random\n",
        "# check for different values of a and b\n",
        "a = 1.0\n",
        "b = 4.0\n",
        "k1 = 1\n",
        "k2 = 1\n",
        "n1 = (((a-1)*5-7)*k1+((b-1)-5)*k2)/6/3\n",
        "print(\"Expected gain : \", n1)  # expected gain\n",
        "avg_return = 0\n",
        "\n",
        "for i in range(1000):\n",
        "    bet = 7\n",
        "    sum = random.randint(1, 7)+random.randint(1, 7)\n",
        "    if sum < bet or sum > bet:\n",
        "        avg_return = avg_return + k1*(a-1)/1000\n",
        "    if sum == bet:\n",
        "        avg_return = avg_return + k2*(b-1)/1000\n",
        "    if sum != bet:\n",
        "        avg_return = avg_return + (-k2)/1000\n",
        "\n",
        "print(\"Simulated gain : \", avg_return)  # simulated gain\n",
        "print(\"Round of Simulated gain : \",round(avg_return,1))"
      ]
    },
    {
      "cell_type": "code",
      "execution_count": null,
      "metadata": {
        "id": "MkwBS1oINlpK"
      },
      "outputs": [],
      "source": []
    }
  ],
  "metadata": {
    "colab": {
      "provenance": []
    },
    "kernelspec": {
      "display_name": "Python 3",
      "language": "python",
      "name": "python3"
    },
    "language_info": {
      "codemirror_mode": {
        "name": "ipython",
        "version": 3
      },
      "file_extension": ".py",
      "mimetype": "text/x-python",
      "name": "python",
      "nbconvert_exporter": "python",
      "pygments_lexer": "ipython3",
      "version": "3.10.9"
    },
    "vscode": {
      "interpreter": {
        "hash": "e3a928b85d63b2ef9b6ccf12e8d329d0cbc7130b7b94533fcc116c9895f7d050"
      }
    }
  },
  "nbformat": 4,
  "nbformat_minor": 0
}
