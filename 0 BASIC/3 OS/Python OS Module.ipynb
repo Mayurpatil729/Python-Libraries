{
 "cells": [
  {
   "cell_type": "markdown",
   "metadata": {},
   "source": [
    "# Python OS module\n",
    "\n",
    "Python OS module provides the facility to establish the interaction between the user and the operating system. It offers many useful OS functions that are used to perform OS-based tasks and get related information about operating system.\n",
    "\n",
    "The OS comes under Python's standard utility modules. This module offers a portable way of using operating system dependent functionality."
   ]
  },
  {
   "cell_type": "code",
   "execution_count": 1,
   "metadata": {},
   "outputs": [],
   "source": [
    "import os"
   ]
  },
  {
   "cell_type": "code",
   "execution_count": 2,
   "metadata": {},
   "outputs": [
    {
     "name": "stdout",
     "output_type": "stream",
     "text": [
      "nt\n"
     ]
    }
   ],
   "source": [
    "print(os.name)"
   ]
  },
  {
   "cell_type": "code",
   "execution_count": 3,
   "metadata": {},
   "outputs": [],
   "source": [
    "os.mkdir(\"RCPIT\")"
   ]
  },
  {
   "cell_type": "code",
   "execution_count": 8,
   "metadata": {},
   "outputs": [
    {
     "name": "stdout",
     "output_type": "stream",
     "text": [
      "<built-in function mkdir>\n"
     ]
    }
   ],
   "source": [
    "print(os.mkdir)"
   ]
  },
  {
   "cell_type": "code",
   "execution_count": 9,
   "metadata": {},
   "outputs": [
    {
     "name": "stdout",
     "output_type": "stream",
     "text": [
      "C:\\Users\\Shree\n"
     ]
    }
   ],
   "source": [
    "import os     \n",
    "print(os.getcwd())     "
   ]
  },
  {
   "cell_type": "code",
   "execution_count": 15,
   "metadata": {},
   "outputs": [],
   "source": [
    "import os  \n",
    "os.chdir(\"RCPIT\")  "
   ]
  },
  {
   "cell_type": "code",
   "execution_count": 16,
   "metadata": {},
   "outputs": [
    {
     "name": "stdout",
     "output_type": "stream",
     "text": [
      "C:\\Users\\Shree\\RCPIT\n"
     ]
    }
   ],
   "source": [
    "import os     \n",
    "print(os.getcwd())   "
   ]
  },
  {
   "cell_type": "markdown",
   "metadata": {},
   "source": [
    "# os.error()"
   ]
  },
  {
   "cell_type": "code",
   "execution_count": 1,
   "metadata": {},
   "outputs": [
    {
     "name": "stdout",
     "output_type": "stream",
     "text": [
      "Problem reading: Python.txt\n"
     ]
    },
    {
     "name": "stderr",
     "output_type": "stream",
     "text": [
      "C:\\Users\\Shree\\Anaconda3\\lib\\site-packages\\ipykernel_launcher.py:7: DeprecationWarning: 'U' mode is deprecated\n",
      "  import sys\n"
     ]
    }
   ],
   "source": [
    "import os  \n",
    "  \n",
    "try:  \n",
    "    # If file does not exist,  \n",
    "    # then it throw an IOError  \n",
    "    filename = 'Python.txt'  \n",
    "    f = open(filename, 'rU')  \n",
    "    text = f.read()  \n",
    "    f.close()  \n",
    "  \n",
    "# The Control jumps directly to here if  \n",
    "# any lines throws IOError.  \n",
    "except IOError:  \n",
    "  \n",
    "    # print(os.error) will <class 'OSError'>  \n",
    "    print('Problem reading: ' + filename)     "
   ]
  },
  {
   "cell_type": "markdown",
   "metadata": {},
   "source": [
    "# os.popen()"
   ]
  },
  {
   "cell_type": "markdown",
   "metadata": {},
   "source": [
    "This function opens a file or from the command specified, \n",
    "and it returns a file object which is connected to a pipe."
   ]
  },
  {
   "cell_type": "code",
   "execution_count": 5,
   "metadata": {},
   "outputs": [],
   "source": [
    "import os     \n",
    "#fd = \"python.txt\"      \n",
    "    \n",
    "# popen() is similar to open()     \n",
    "f=open(\"/Users/Shree/abc.txt\",\"w\")   \n",
    "f.write(\"This is awesome\")     \n",
    "f.close()     \n",
    "#file = open(fd, 'r')     \n",
    "#text = file.read()     \n",
    "#print(text)     \n",
    "      \n",
    "# popen() provides gateway and accesses the file directly     \n",
    "#file = os.popen(fd, 'w')     \n",
    "#file.write(\"This is awesome\")     \n",
    "# File not closed, shown in next function.      "
   ]
  },
  {
   "cell_type": "code",
   "execution_count": 7,
   "metadata": {},
   "outputs": [
    {
     "name": "stdout",
     "output_type": "stream",
     "text": [
      "This is awesome\n"
     ]
    }
   ],
   "source": [
    "f=open(\"/Users/Shree/abc.txt\",\"r\")\n",
    "text=f.read()\n",
    "print(text)"
   ]
  },
  {
   "cell_type": "code",
   "execution_count": 9,
   "metadata": {},
   "outputs": [
    {
     "data": {
      "text/plain": [
       "15"
      ]
     },
     "execution_count": 9,
     "metadata": {},
     "output_type": "execute_result"
    }
   ],
   "source": [
    "f=os.popen(\"/Users/Shree/abc.txt\",\"w\")\n",
    "f.write(\"This is owesome\")"
   ]
  },
  {
   "cell_type": "markdown",
   "metadata": {},
   "source": [
    "# os directories"
   ]
  },
  {
   "cell_type": "code",
   "execution_count": 23,
   "metadata": {},
   "outputs": [
    {
     "name": "stdout",
     "output_type": "stream",
     "text": [
      "['DirEntry', 'F_OK', 'MutableMapping', 'O_APPEND', 'O_BINARY', 'O_CREAT', 'O_EXCL', 'O_NOINHERIT', 'O_RANDOM', 'O_RDONLY', 'O_RDWR', 'O_SEQUENTIAL', 'O_SHORT_LIVED', 'O_TEMPORARY', 'O_TEXT', 'O_TRUNC', 'O_WRONLY', 'P_DETACH', 'P_NOWAIT', 'P_NOWAITO', 'P_OVERLAY', 'P_WAIT', 'PathLike', 'R_OK', 'SEEK_CUR', 'SEEK_END', 'SEEK_SET', 'TMP_MAX', 'W_OK', 'X_OK', '_Environ', '__all__', '__builtins__', '__cached__', '__doc__', '__file__', '__loader__', '__name__', '__package__', '__spec__', '_execvpe', '_exists', '_exit', '_fspath', '_get_exports_list', '_putenv', '_unsetenv', '_wrap_close', 'abc', 'abort', 'access', 'altsep', 'chdir', 'chmod', 'close', 'closerange', 'cpu_count', 'curdir', 'defpath', 'device_encoding', 'devnull', 'dup', 'dup2', 'environ', 'errno', 'error', 'execl', 'execle', 'execlp', 'execlpe', 'execv', 'execve', 'execvp', 'execvpe', 'extsep', 'fdopen', 'fsdecode', 'fsencode', 'fspath', 'fstat', 'fsync', 'ftruncate', 'get_exec_path', 'get_handle_inheritable', 'get_inheritable', 'get_terminal_size', 'getcwd', 'getcwdb', 'getenv', 'getlogin', 'getpid', 'getppid', 'isatty', 'kill', 'linesep', 'link', 'listdir', 'lseek', 'lstat', 'makedirs', 'mkdir', 'name', 'open', 'pardir', 'path', 'pathsep', 'pipe', 'popen', 'putenv', 'read', 'readlink', 'remove', 'removedirs', 'rename', 'renames', 'replace', 'rmdir', 'scandir', 'sep', 'set_handle_inheritable', 'set_inheritable', 'spawnl', 'spawnle', 'spawnv', 'spawnve', 'st', 'startfile', 'stat', 'stat_float_times', 'stat_result', 'statvfs_result', 'strerror', 'supports_bytes_environ', 'supports_dir_fd', 'supports_effective_ids', 'supports_fd', 'supports_follow_symlinks', 'symlink', 'sys', 'system', 'terminal_size', 'times', 'times_result', 'truncate', 'umask', 'uname_result', 'unlink', 'urandom', 'utime', 'waitpid', 'walk', 'write']\n"
     ]
    }
   ],
   "source": [
    "import os\n",
    "print(dir(os))"
   ]
  },
  {
   "cell_type": "code",
   "execution_count": 24,
   "metadata": {},
   "outputs": [
    {
     "name": "stdout",
     "output_type": "stream",
     "text": [
      "C:\\Users\\Shree\n"
     ]
    }
   ],
   "source": [
    "print(os.getcwd())"
   ]
  },
  {
   "cell_type": "code",
   "execution_count": 26,
   "metadata": {},
   "outputs": [],
   "source": [
    "os.chdir(\"C:\\\\\")"
   ]
  },
  {
   "cell_type": "code",
   "execution_count": 27,
   "metadata": {},
   "outputs": [
    {
     "name": "stdout",
     "output_type": "stream",
     "text": [
      "C:\\\n"
     ]
    }
   ],
   "source": [
    "print(os.getcwd())"
   ]
  },
  {
   "cell_type": "code",
   "execution_count": 28,
   "metadata": {},
   "outputs": [],
   "source": [
    "f=open(\"/Users/Shree/abc.txt\",\"r\")"
   ]
  },
  {
   "cell_type": "code",
   "execution_count": 29,
   "metadata": {},
   "outputs": [
    {
     "name": "stdout",
     "output_type": "stream",
     "text": [
      "This is awesome\n"
     ]
    }
   ],
   "source": [
    "print(f.read())"
   ]
  },
  {
   "cell_type": "code",
   "execution_count": 32,
   "metadata": {},
   "outputs": [
    {
     "name": "stdout",
     "output_type": "stream",
     "text": [
      "['$RECYCLE.BIN', 'ashish Asst.pdf', 'ashish Asst.Prof updated CV.docx', 'ashish Asst.Prof updated CV.pdf', 'Ashish Vaccine.pdf', 'Computer Programming', 'CP Endsem', 'Entrance Test', 'joining letter.pdf', 'LG-Official.xlsx', 'Local guardian', 'Manual 9 and 10 (1).docx', 'My Certphicate', 'My Paper Publications', 'My updated CV.pdf', 'NIC_DRVR_WIN_R296615', 'NIC_DRVR_WIN_R296615.zip', 'Nitin N. Patil Ph.D. Thesis (Computer Engineering).pdf', 'Project_2.zip', 'Rajyasewa', 'System Volume Information', 'TY_B_Updated_Timetable.jpg', 'UPSC', 'wrar390.exe', '~$hish Asst.Prof updated CV.docx']\n"
     ]
    }
   ],
   "source": [
    "print(os.listdir(\"D:\\\\\"))"
   ]
  },
  {
   "cell_type": "code",
   "execution_count": 33,
   "metadata": {},
   "outputs": [
    {
     "name": "stdout",
     "output_type": "stream",
     "text": [
      "None\n"
     ]
    }
   ],
   "source": [
    "print(os.mkdir(\"Thid\"))"
   ]
  },
  {
   "cell_type": "code",
   "execution_count": 36,
   "metadata": {},
   "outputs": [
    {
     "name": "stdout",
     "output_type": "stream",
     "text": [
      "None\n"
     ]
    }
   ],
   "source": [
    "print(os.makedirs(\"This/That\"))"
   ]
  },
  {
   "cell_type": "code",
   "execution_count": 37,
   "metadata": {},
   "outputs": [
    {
     "name": "stdout",
     "output_type": "stream",
     "text": [
      "C:\\RCPIT\n"
     ]
    }
   ],
   "source": [
    "print(os.path.join(\"C:\\\\\",\"RCPIT\"))"
   ]
  },
  {
   "cell_type": "code",
   "execution_count": 40,
   "metadata": {},
   "outputs": [
    {
     "name": "stdout",
     "output_type": "stream",
     "text": [
      "True\n"
     ]
    }
   ],
   "source": [
    "print(os.path.exists(\"C:\\\\\"))"
   ]
  },
  {
   "cell_type": "code",
   "execution_count": 41,
   "metadata": {},
   "outputs": [
    {
     "name": "stdout",
     "output_type": "stream",
     "text": [
      "True\n"
     ]
    }
   ],
   "source": [
    "print(os.path.exists(\"/Users/Shree/abc.txt\"))"
   ]
  },
  {
   "cell_type": "code",
   "execution_count": 42,
   "metadata": {},
   "outputs": [
    {
     "name": "stdout",
     "output_type": "stream",
     "text": [
      "False\n"
     ]
    }
   ],
   "source": [
    "print(os.path.exists(\"/Users/Shree/xyz.txt\"))"
   ]
  },
  {
   "cell_type": "code",
   "execution_count": null,
   "metadata": {},
   "outputs": [],
   "source": []
  }
 ],
 "metadata": {
  "kernelspec": {
   "display_name": "Python 3",
   "language": "python",
   "name": "python3"
  },
  "language_info": {
   "codemirror_mode": {
    "name": "ipython",
    "version": 3
   },
   "file_extension": ".py",
   "mimetype": "text/x-python",
   "name": "python",
   "nbconvert_exporter": "python",
   "pygments_lexer": "ipython3",
   "version": "3.10.9"
  },
  "vscode": {
   "interpreter": {
    "hash": "e3a928b85d63b2ef9b6ccf12e8d329d0cbc7130b7b94533fcc116c9895f7d050"
   }
  }
 },
 "nbformat": 4,
 "nbformat_minor": 2
}
