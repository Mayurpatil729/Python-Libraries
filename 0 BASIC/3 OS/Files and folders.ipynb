{
 "cells": [
  {
   "cell_type": "markdown",
   "metadata": {},
   "source": [
    " # read and write data from text\n",
    " \n",
    " mode :\n",
    " \n",
    "'r' or 'rt' :    read : default mode\n",
    "'w' or 'wt' :     write : if file exists : override, if file not exists : create\n",
    "'a' or 'at' :     append : if file exists : append , if file not exists : create\n",
    "'r+' or 'rt+' :    read and write\n",
    "'a+' or 'at+' :    append and read\n",
    "'x'         :  Create file if not exist\n",
    "'t'         : Text mode\n",
    "'b'         : binary mode\n",
    "'+'         : read and write mode\n",
    "\n"
   ]
  },
  {
   "cell_type": "code",
   "execution_count": 2,
   "metadata": {},
   "outputs": [],
   "source": [
    "f=open(\"/Users/Shree/abc.txt\",\"w\")"
   ]
  },
  {
   "cell_type": "code",
   "execution_count": 3,
   "metadata": {},
   "outputs": [
    {
     "name": "stdout",
     "output_type": "stream",
     "text": [
      "/Users/Shree/abc.txt\n",
      "w\n",
      "False\n",
      "True\n",
      "False\n",
      "True\n"
     ]
    }
   ],
   "source": [
    "print(f.name)\n",
    "print(f.mode)\n",
    "print(f.readable())\n",
    "print(f.writable())\n",
    "print(f.closed)\n",
    "f.close()\n",
    "print(f.closed)"
   ]
  },
  {
   "cell_type": "code",
   "execution_count": 4,
   "metadata": {},
   "outputs": [],
   "source": [
    "f=open(\"/Users/Shree/abc.txt\",\"w\")"
   ]
  },
  {
   "cell_type": "code",
   "execution_count": 5,
   "metadata": {},
   "outputs": [],
   "source": [
    "f.write(\"welcome to RCPIT\")\n",
    "f.write(\"welcome to world pf python\")\n",
    "f.close()"
   ]
  },
  {
   "cell_type": "code",
   "execution_count": 6,
   "metadata": {},
   "outputs": [],
   "source": [
    "f=open(\"/Users/Shree/abc.txt\",\"w\")"
   ]
  },
  {
   "cell_type": "code",
   "execution_count": 7,
   "metadata": {},
   "outputs": [],
   "source": [
    "st='''Hello this is the world of python\n",
    "and what are you doing so make practice more and more'''\n",
    "f.write(st)\n",
    "f.close()"
   ]
  },
  {
   "cell_type": "code",
   "execution_count": 1,
   "metadata": {},
   "outputs": [],
   "source": [
    "f=open(\"/Users/Shree/abc.txt\",\"r\")"
   ]
  },
  {
   "cell_type": "code",
   "execution_count": 5,
   "metadata": {},
   "outputs": [],
   "source": [
    "content=f.read(3)\n"
   ]
  },
  {
   "cell_type": "code",
   "execution_count": 6,
   "metadata": {},
   "outputs": [
    {
     "name": "stdout",
     "output_type": "stream",
     "text": [
      " is\n"
     ]
    }
   ],
   "source": [
    "print(content)"
   ]
  },
  {
   "cell_type": "code",
   "execution_count": 11,
   "metadata": {},
   "outputs": [],
   "source": [
    "content=f.read(30)"
   ]
  },
  {
   "cell_type": "code",
   "execution_count": 12,
   "metadata": {},
   "outputs": [
    {
     "name": "stdout",
     "output_type": "stream",
     "text": [
      "ld of python\n",
      "and what are you \n"
     ]
    }
   ],
   "source": [
    "print(content)"
   ]
  },
  {
   "cell_type": "code",
   "execution_count": 19,
   "metadata": {},
   "outputs": [],
   "source": [
    "f=open(\"/Users/Shree/abc.txt\",\"r\")"
   ]
  },
  {
   "cell_type": "code",
   "execution_count": 20,
   "metadata": {},
   "outputs": [],
   "source": [
    "content=f.read()"
   ]
  },
  {
   "cell_type": "code",
   "execution_count": 21,
   "metadata": {},
   "outputs": [
    {
     "name": "stdout",
     "output_type": "stream",
     "text": [
      "Hello this is the world of python\n",
      "and what are you doing so make practice more and more\n"
     ]
    }
   ],
   "source": [
    "print(content)"
   ]
  },
  {
   "cell_type": "code",
   "execution_count": 22,
   "metadata": {},
   "outputs": [],
   "source": [
    "f.close()"
   ]
  },
  {
   "cell_type": "markdown",
   "metadata": {},
   "source": [
    "# Readline"
   ]
  },
  {
   "cell_type": "code",
   "execution_count": 1,
   "metadata": {},
   "outputs": [],
   "source": [
    "f=open(\"/Users/Shree/abc.txt\",\"r\")"
   ]
  },
  {
   "cell_type": "code",
   "execution_count": 2,
   "metadata": {},
   "outputs": [],
   "source": [
    "content=f.readline()"
   ]
  },
  {
   "cell_type": "code",
   "execution_count": 3,
   "metadata": {},
   "outputs": [
    {
     "name": "stdout",
     "output_type": "stream",
     "text": [
      "Hello this is the world of python\n",
      "\n"
     ]
    }
   ],
   "source": [
    "print(content)"
   ]
  },
  {
   "cell_type": "code",
   "execution_count": 4,
   "metadata": {},
   "outputs": [],
   "source": [
    "f.close()"
   ]
  },
  {
   "cell_type": "code",
   "execution_count": 13,
   "metadata": {},
   "outputs": [],
   "source": [
    "f=open(\"/Users/Shree/abc.txt\",\"r\")"
   ]
  },
  {
   "cell_type": "code",
   "execution_count": 14,
   "metadata": {},
   "outputs": [
    {
     "name": "stdout",
     "output_type": "stream",
     "text": [
      "and what are you doing so make practice more and more\n"
     ]
    }
   ],
   "source": [
    "for line in f:\n",
    "    line=f.readline()\n",
    "    print(line)"
   ]
  },
  {
   "cell_type": "code",
   "execution_count": 15,
   "metadata": {},
   "outputs": [],
   "source": [
    "f.close()"
   ]
  },
  {
   "cell_type": "markdown",
   "metadata": {},
   "source": [
    "# Split"
   ]
  },
  {
   "cell_type": "code",
   "execution_count": 3,
   "metadata": {},
   "outputs": [],
   "source": [
    "f=open(\"/Users/Shree/abc.txt\",\"r\") "
   ]
  },
  {
   "cell_type": "code",
   "execution_count": 4,
   "metadata": {},
   "outputs": [],
   "source": [
    "data = f.readlines()"
   ]
  },
  {
   "cell_type": "code",
   "execution_count": 5,
   "metadata": {},
   "outputs": [
    {
     "name": "stdout",
     "output_type": "stream",
     "text": [
      "['Hello', 'this', 'is', 'the', 'world', 'of', 'python']\n",
      "['and', 'what', 'are', 'you', 'doing', 'so', 'make', 'practice', 'more', 'and', 'more']\n"
     ]
    }
   ],
   "source": [
    "for line in data:\n",
    "        word = line.split()\n",
    "        print (word)"
   ]
  },
  {
   "cell_type": "code",
   "execution_count": 6,
   "metadata": {},
   "outputs": [],
   "source": [
    "f.close()"
   ]
  },
  {
   "cell_type": "markdown",
   "metadata": {},
   "source": [
    "# seek and tail"
   ]
  },
  {
   "cell_type": "markdown",
   "metadata": {},
   "source": [
    "# seek( ) : Bring Curser to initial position"
   ]
  },
  {
   "cell_type": "markdown",
   "metadata": {},
   "source": [
    "# tell( ) : Get the current file position"
   ]
  },
  {
   "cell_type": "code",
   "execution_count": 7,
   "metadata": {},
   "outputs": [],
   "source": [
    "f=open(\"/Users/Shree/abc.txt\",\"r\") "
   ]
  },
  {
   "cell_type": "code",
   "execution_count": 8,
   "metadata": {},
   "outputs": [
    {
     "name": "stdout",
     "output_type": "stream",
     "text": [
      "Hello this is the world of python\n",
      "and what are you doing so make practice more and more\n",
      "'have three visions for India. In 3000 years of our history,\\n',\n",
      " 'people from all over \\n', 'the world have come and invaded us,\n",
      " captured our lands,\\n', 'conquered our minds. \\n', 'From Alexander onwards, \n",
      "the Greeks, the Turks, the Moguls,\\n', 'the Portuguese, the British,\n"
     ]
    }
   ],
   "source": [
    "content=f.read()\n",
    "print(content)"
   ]
  },
  {
   "cell_type": "code",
   "execution_count": 10,
   "metadata": {},
   "outputs": [],
   "source": [
    "f.close()"
   ]
  },
  {
   "cell_type": "code",
   "execution_count": 11,
   "metadata": {},
   "outputs": [],
   "source": [
    "f=open(\"/Users/Shree/abc.txt\",\"r\") "
   ]
  },
  {
   "cell_type": "code",
   "execution_count": 12,
   "metadata": {},
   "outputs": [
    {
     "name": "stdout",
     "output_type": "stream",
     "text": [
      "Hello t\n",
      "his is the world of python\n",
      "\n",
      "and w\n",
      "hat are you doing so make practice more and more\n",
      "'have three visions for India. In 3000 years of our history,\\n',\n",
      " 'people from all over \\n', 'the world have come and invaded us,\n",
      " captured our lands,\\n', 'conquered our minds. \\n', 'From Alexander onwards, \n",
      "the Greeks, the Turks, the Moguls,\\n', 'the Portuguese, the British,\n",
      "\n"
     ]
    }
   ],
   "source": [
    "print(f.read(7))\n",
    "print(f.readline())\n",
    "print(f.read(5))\n",
    "print(f.read())\n",
    "print(f.read())"
   ]
  },
  {
   "cell_type": "code",
   "execution_count": 13,
   "metadata": {},
   "outputs": [],
   "source": [
    "f.close()"
   ]
  },
  {
   "cell_type": "code",
   "execution_count": 14,
   "metadata": {},
   "outputs": [],
   "source": [
    "f=open(\"/Users/Shree/abc.txt\",\"r\") "
   ]
  },
  {
   "cell_type": "code",
   "execution_count": 15,
   "metadata": {},
   "outputs": [
    {
     "name": "stdout",
     "output_type": "stream",
     "text": [
      "Hello this is the world of python\n",
      "and what are you doing so make practice more and more\n",
      "'have three visions for India. In 3000 years of our history,\\n',\n",
      " 'people from all over \\n', 'the world have come and invaded us,\n",
      " captured our lands,\\n', 'conquered our minds. \\n', 'From Alexander onwards, \n",
      "the Greeks, the Turks, the Moguls,\\n', 'the Portuguese, the British,\n",
      "Hello this is the world of python\n",
      "and what are you doing so make practice more and more\n",
      "'have three visions for India. In 3000 years of our history,\\n',\n",
      " 'people from all over \\n', 'the world have come and invaded us,\n",
      " captured our lands,\\n', 'conquered our minds. \\n', 'From Alexander onwards, \n",
      "the Greeks, the Turks, the Moguls,\\n', 'the Portuguese, the British,\n"
     ]
    }
   ],
   "source": [
    "print(f.read())\n",
    "f.seek(0)\n",
    "print(f.read())\n",
    "\n",
    "f.close()"
   ]
  },
  {
   "cell_type": "code",
   "execution_count": 17,
   "metadata": {},
   "outputs": [],
   "source": [
    "f=open(\"/Users/Shree/abc.txt\",\"r\")"
   ]
  },
  {
   "cell_type": "code",
   "execution_count": 18,
   "metadata": {},
   "outputs": [
    {
     "name": "stdout",
     "output_type": "stream",
     "text": [
      "0\n"
     ]
    }
   ],
   "source": [
    "print(f.tell())"
   ]
  },
  {
   "cell_type": "code",
   "execution_count": 19,
   "metadata": {},
   "outputs": [
    {
     "name": "stdout",
     "output_type": "stream",
     "text": [
      "Hello this is the world of python\n",
      "\n"
     ]
    }
   ],
   "source": [
    "print(f.readline())"
   ]
  },
  {
   "cell_type": "code",
   "execution_count": 20,
   "metadata": {},
   "outputs": [
    {
     "name": "stdout",
     "output_type": "stream",
     "text": [
      "35\n"
     ]
    }
   ],
   "source": [
    "print(f.tell())"
   ]
  },
  {
   "cell_type": "code",
   "execution_count": 21,
   "metadata": {},
   "outputs": [
    {
     "name": "stdout",
     "output_type": "stream",
     "text": [
      "and what are you doing so make practice more and more\n",
      "\n"
     ]
    }
   ],
   "source": [
    "print(f.readline())"
   ]
  },
  {
   "cell_type": "code",
   "execution_count": 22,
   "metadata": {},
   "outputs": [
    {
     "name": "stdout",
     "output_type": "stream",
     "text": [
      "90\n"
     ]
    }
   ],
   "source": [
    "print(f.tell())"
   ]
  },
  {
   "cell_type": "code",
   "execution_count": 23,
   "metadata": {},
   "outputs": [],
   "source": [
    "f.close()"
   ]
  },
  {
   "cell_type": "code",
   "execution_count": 24,
   "metadata": {},
   "outputs": [],
   "source": [
    "f=open(\"/Users/Shree/abc.txt\",\"r\")"
   ]
  },
  {
   "cell_type": "code",
   "execution_count": 25,
   "metadata": {},
   "outputs": [
    {
     "name": "stdout",
     "output_type": "stream",
     "text": [
      "6 61 364\n"
     ]
    }
   ],
   "source": [
    "l=w=c=0\n",
    "for line in f:\n",
    "    l=l+1\n",
    "    w=w+len(line.split())\n",
    "    c=c+len(line)\n",
    "print(l,w,c)"
   ]
  },
  {
   "cell_type": "code",
   "execution_count": 29,
   "metadata": {},
   "outputs": [],
   "source": [
    "f.close()"
   ]
  },
  {
   "cell_type": "code",
   "execution_count": 30,
   "metadata": {},
   "outputs": [],
   "source": [
    "f=open(\"/Users/Shree/abc.txt\",\"r\")"
   ]
  },
  {
   "cell_type": "code",
   "execution_count": 31,
   "metadata": {},
   "outputs": [
    {
     "name": "stdout",
     "output_type": "stream",
     "text": [
      "364\n"
     ]
    }
   ],
   "source": [
    "a=b=c=0\n",
    "for line in f:\n",
    "    c=c+len(line)\n",
    "print(c)"
   ]
  },
  {
   "cell_type": "code",
   "execution_count": null,
   "metadata": {},
   "outputs": [],
   "source": []
  }
 ],
 "metadata": {
  "kernelspec": {
   "display_name": "Python 3",
   "language": "python",
   "name": "python3"
  },
  "language_info": {
   "codemirror_mode": {
    "name": "ipython",
    "version": 3
   },
   "file_extension": ".py",
   "mimetype": "text/x-python",
   "name": "python",
   "nbconvert_exporter": "python",
   "pygments_lexer": "ipython3",
   "version": "3.10.9 (tags/v3.10.9:1dd9be6, Dec  6 2022, 20:01:21) [MSC v.1934 64 bit (AMD64)]"
  },
  "vscode": {
   "interpreter": {
    "hash": "e3a928b85d63b2ef9b6ccf12e8d329d0cbc7130b7b94533fcc116c9895f7d050"
   }
  }
 },
 "nbformat": 4,
 "nbformat_minor": 2
}
