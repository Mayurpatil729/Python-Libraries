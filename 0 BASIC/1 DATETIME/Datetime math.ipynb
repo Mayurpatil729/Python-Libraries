{
 "cells": [
  {
   "cell_type": "markdown",
   "metadata": {},
   "source": [
    "# Python Dates\n",
    "\n",
    "A date in Python is not a data type of its own, but we can import a module named datetime to work with dates as date objects."
   ]
  },
  {
   "cell_type": "code",
   "execution_count": 1,
   "metadata": {},
   "outputs": [
    {
     "name": "stdout",
     "output_type": "stream",
     "text": [
      "2022-09-29 16:16:09.614083\n"
     ]
    }
   ],
   "source": [
    "import datetime\n",
    "\n",
    "x = datetime.datetime.now()\n",
    "print(x)"
   ]
  },
  {
   "cell_type": "code",
   "execution_count": 2,
   "metadata": {},
   "outputs": [
    {
     "name": "stdout",
     "output_type": "stream",
     "text": [
      "2022\n",
      "Thursday\n"
     ]
    }
   ],
   "source": [
    "import datetime\n",
    "\n",
    "x = datetime.datetime.now()\n",
    "\n",
    "print(x.year)\n",
    "print(x.strftime(\"%A\"))"
   ]
  },
  {
   "cell_type": "markdown",
   "metadata": {},
   "source": [
    "# Creating Date Objects\n",
    "\n",
    "To create a date, we can use the datetime() class (constructor) of the datetime module.\n",
    "\n",
    "The datetime() class requires three parameters to create a date: year, month, day."
   ]
  },
  {
   "cell_type": "code",
   "execution_count": 3,
   "metadata": {},
   "outputs": [
    {
     "name": "stdout",
     "output_type": "stream",
     "text": [
      "2020-05-17 00:00:00\n"
     ]
    }
   ],
   "source": [
    "import datetime\n",
    "\n",
    "x = datetime.datetime(2020, 5, 17)\n",
    "\n",
    "print(x)"
   ]
  },
  {
   "cell_type": "markdown",
   "metadata": {},
   "source": [
    "# Creating Date Objects\n",
    "\n",
    "To create a date, we can use the datetime() class (constructor) of the datetime module.\n",
    "\n",
    "The datetime() class requires three parameters to create a date: year, month, day."
   ]
  },
  {
   "cell_type": "code",
   "execution_count": 4,
   "metadata": {},
   "outputs": [
    {
     "name": "stdout",
     "output_type": "stream",
     "text": [
      "2020-05-17 00:00:00\n"
     ]
    }
   ],
   "source": [
    "import datetime\n",
    "\n",
    "x = datetime.datetime(2020, 5, 17)\n",
    "\n",
    "print(x)"
   ]
  },
  {
   "cell_type": "markdown",
   "metadata": {},
   "source": [
    "# The strftime() Method\n",
    "\n",
    "The datetime object has a method for formatting date objects into readable strings.\n",
    "\n",
    "The method is called strftime(), and takes one parameter, format, to specify the format of the returned string:"
   ]
  },
  {
   "cell_type": "code",
   "execution_count": 6,
   "metadata": {},
   "outputs": [
    {
     "name": "stdout",
     "output_type": "stream",
     "text": [
      "July\n"
     ]
    }
   ],
   "source": [
    "import datetime\n",
    "\n",
    "x = datetime.datetime(2018, 7, 4)\n",
    "\n",
    "print(x.strftime(\"%B\"))"
   ]
  },
  {
   "cell_type": "code",
   "execution_count": 7,
   "metadata": {},
   "outputs": [
    {
     "name": "stdout",
     "output_type": "stream",
     "text": [
      "Today's date is 2022-09-29\n"
     ]
    }
   ],
   "source": [
    "# Python program to\n",
    "# print current date\n",
    " \n",
    "from datetime import date\n",
    " \n",
    "# calling the today\n",
    "# function of date class\n",
    "today = date.today()\n",
    " \n",
    "print(\"Today's date is\", today)"
   ]
  },
  {
   "cell_type": "code",
   "execution_count": 8,
   "metadata": {},
   "outputs": [
    {
     "name": "stdout",
     "output_type": "stream",
     "text": [
      "Current year: 2022\n",
      "Current month: 9\n",
      "Current day: 29\n"
     ]
    }
   ],
   "source": [
    "from datetime import date\n",
    " \n",
    "# date object of today's date\n",
    "today = date.today()\n",
    " \n",
    "print(\"Current year:\", today.year)\n",
    "print(\"Current month:\", today.month)\n",
    "print(\"Current day:\", today.day)"
   ]
  },
  {
   "cell_type": "code",
   "execution_count": 9,
   "metadata": {},
   "outputs": [
    {
     "name": "stdout",
     "output_type": "stream",
     "text": [
      "Datetime from timestamp: 2029-10-25 21:47:48\n"
     ]
    }
   ],
   "source": [
    "from datetime import datetime\n",
    " \n",
    "# Getting Datetime from timestamp\n",
    "date_time = datetime.fromtimestamp(1887639468)\n",
    "print(\"Datetime from timestamp:\", date_time)"
   ]
  },
  {
   "cell_type": "markdown",
   "metadata": {},
   "source": [
    "# Time class\n",
    "\n",
    "The time class creates the time object which represents local time, independent of any day. "
   ]
  },
  {
   "cell_type": "code",
   "execution_count": 10,
   "metadata": {},
   "outputs": [
    {
     "name": "stdout",
     "output_type": "stream",
     "text": [
      "Entered time 13:24:56\n"
     ]
    }
   ],
   "source": [
    "from datetime import time\n",
    " \n",
    "# calling the constructor\n",
    "my_time = time(13, 24, 56)\n",
    " \n",
    "print(\"Entered time\", my_time)"
   ]
  },
  {
   "cell_type": "code",
   "execution_count": 11,
   "metadata": {},
   "outputs": [
    {
     "name": "stdout",
     "output_type": "stream",
     "text": [
      "\n",
      "Time with one argument 00:12:00\n"
     ]
    }
   ],
   "source": [
    "my_time = time(minute=12)\n",
    "print(\"\\nTime with one argument\", my_time)"
   ]
  },
  {
   "cell_type": "markdown",
   "metadata": {},
   "source": [
    "# Get hours, minutes, seconds, and microseconds\n",
    "\n",
    "After creating a time object, its attributes can also be printed separately. "
   ]
  },
  {
   "cell_type": "code",
   "execution_count": 12,
   "metadata": {},
   "outputs": [
    {
     "name": "stdout",
     "output_type": "stream",
     "text": [
      "hour = 11\n",
      "minute = 34\n",
      "second = 56\n",
      "microsecond = 0\n"
     ]
    }
   ],
   "source": [
    "from datetime import time\n",
    " \n",
    "Time = time(11, 34, 56)\n",
    " \n",
    "print(\"hour =\", Time.hour)\n",
    "print(\"minute =\", Time.minute)\n",
    "print(\"second =\", Time.second)\n",
    "print(\"microsecond =\", Time.microsecond)"
   ]
  },
  {
   "cell_type": "code",
   "execution_count": 13,
   "metadata": {},
   "outputs": [
    {
     "name": "stdout",
     "output_type": "stream",
     "text": [
      "String Representation: 12:24:36.001212\n",
      "<class 'str'>\n"
     ]
    }
   ],
   "source": [
    "from datetime import time\n",
    " \n",
    "# Creating Time object\n",
    "Time = time(12,24,36,1212)\n",
    " \n",
    "# Converting Time object to string\n",
    "Str = Time.isoformat()\n",
    "print(\"String Representation:\", Str)\n",
    "print(type(Str))"
   ]
  },
  {
   "cell_type": "code",
   "execution_count": 14,
   "metadata": {},
   "outputs": [
    {
     "name": "stdout",
     "output_type": "stream",
     "text": [
      "1999-12-12 00:00:00\n",
      "1999-12-12 12:12:12.342380\n"
     ]
    }
   ],
   "source": [
    "# Python program to\n",
    "# demonstrate datetime object\n",
    " \n",
    "from datetime import datetime\n",
    " \n",
    "# Initializing constructor\n",
    "a = datetime(1999, 12, 12)\n",
    "print(a)\n",
    " \n",
    "# Initializing constructor\n",
    "# with time parameters as well\n",
    "a = datetime(1999, 12, 12, 12, 12, 12, 342380)\n",
    "print(a)"
   ]
  },
  {
   "cell_type": "code",
   "execution_count": 15,
   "metadata": {},
   "outputs": [
    {
     "name": "stdout",
     "output_type": "stream",
     "text": [
      "year = 1999\n",
      "month = 12\n",
      "hour = 12\n",
      "minute = 12\n",
      "timestamp = 944980932.0\n"
     ]
    }
   ],
   "source": [
    "from datetime import datetime\n",
    " \n",
    "a = datetime(1999, 12, 12, 12, 12, 12)\n",
    " \n",
    "print(\"year =\", a.year)\n",
    "print(\"month =\", a.month)\n",
    "print(\"hour =\", a.hour)\n",
    "print(\"minute =\", a.minute)\n",
    "print(\"timestamp =\", a.timestamp())"
   ]
  },
  {
   "cell_type": "code",
   "execution_count": 16,
   "metadata": {},
   "outputs": [
    {
     "name": "stdout",
     "output_type": "stream",
     "text": [
      "Current date and time is 2022-09-29 16:35:10.410963\n"
     ]
    }
   ],
   "source": [
    "from datetime import datetime\n",
    " \n",
    "# Calling now() function\n",
    "today = datetime.now()\n",
    " \n",
    "print(\"Current date and time is\", today)"
   ]
  },
  {
   "cell_type": "markdown",
   "metadata": {},
   "source": [
    "# Convert Python Datetime to String\n",
    "\n",
    "We can convert Datetime to string in Python using the datetime.strftime and datetime.isoformat"
   ]
  },
  {
   "cell_type": "code",
   "execution_count": 17,
   "metadata": {},
   "outputs": [
    {
     "name": "stdout",
     "output_type": "stream",
     "text": [
      "2022-09-29T16:36:55.241064\n",
      "<class 'str'>\n"
     ]
    }
   ],
   "source": [
    "from datetime import datetime as dt\n",
    " \n",
    "# Getting current date and time\n",
    "now = dt.now()\n",
    " \n",
    "string = dt.isoformat(now)\n",
    "print(string)\n",
    "print(type(string))"
   ]
  },
  {
   "cell_type": "markdown",
   "metadata": {},
   "source": [
    "# Python Math\n",
    "\n",
    "Python has a set of built-in math functions, including an extensive math module, that allows you to perform mathematical tasks on numbers.\n",
    "\n"
   ]
  },
  {
   "cell_type": "code",
   "execution_count": 18,
   "metadata": {},
   "outputs": [
    {
     "name": "stdout",
     "output_type": "stream",
     "text": [
      "5\n",
      "25\n"
     ]
    }
   ],
   "source": [
    "x = min(5, 10, 25)\n",
    "y = max(5, 10, 25)\n",
    "\n",
    "print(x)\n",
    "print(y)\n"
   ]
  },
  {
   "cell_type": "code",
   "execution_count": 19,
   "metadata": {},
   "outputs": [
    {
     "name": "stdout",
     "output_type": "stream",
     "text": [
      "7.25\n"
     ]
    }
   ],
   "source": [
    "x = abs(-7.25)  #return positive value\n",
    "\n",
    "print(x)\n"
   ]
  },
  {
   "cell_type": "code",
   "execution_count": 22,
   "metadata": {},
   "outputs": [
    {
     "name": "stdout",
     "output_type": "stream",
     "text": [
      "25\n"
     ]
    }
   ],
   "source": [
    "x = pow(5, 2)\n",
    "\n",
    "print(x)\n"
   ]
  },
  {
   "cell_type": "code",
   "execution_count": 23,
   "metadata": {},
   "outputs": [
    {
     "name": "stdout",
     "output_type": "stream",
     "text": [
      "3.141592653589793\n"
     ]
    }
   ],
   "source": [
    "# Import math Library\n",
    "import math\n",
    " \n",
    "# Print the value of pi\n",
    "print (math.pi)"
   ]
  },
  {
   "cell_type": "code",
   "execution_count": 24,
   "metadata": {},
   "outputs": [
    {
     "name": "stdout",
     "output_type": "stream",
     "text": [
      "50.26548245743669\n"
     ]
    }
   ],
   "source": [
    "# Import math Library\n",
    "import math\n",
    " \n",
    "# radius of the circle\n",
    "r = 4\n",
    " \n",
    "# value of pie\n",
    "pie = math.pi\n",
    " \n",
    "# area of the circle\n",
    "print(pie * r * r)"
   ]
  },
  {
   "cell_type": "code",
   "execution_count": 25,
   "metadata": {},
   "outputs": [
    {
     "name": "stdout",
     "output_type": "stream",
     "text": [
      "nan\n"
     ]
    }
   ],
   "source": [
    "# Import math Library\n",
    "import math\n",
    " \n",
    "# Print the value of nan\n",
    "print (math.nan)"
   ]
  },
  {
   "cell_type": "code",
   "execution_count": 26,
   "metadata": {},
   "outputs": [
    {
     "name": "stdout",
     "output_type": "stream",
     "text": [
      "The ceil of 2.3 is : 3\n",
      "The floor of 2.3 is : 2\n"
     ]
    }
   ],
   "source": [
    "# Python code to demonstrate the working of\n",
    "# ceil() and floor()\n",
    " \n",
    "# importing \"math\" for mathematical operations\n",
    "import math\n",
    " \n",
    "a = 2.3\n",
    " \n",
    "# returning the ceil of 2.3\n",
    "print (\"The ceil of 2.3 is : \", end=\"\")\n",
    "print (math.ceil(a))\n",
    " \n",
    "# returning the floor of 2.3\n",
    "print (\"The floor of 2.3 is : \", end=\"\")\n",
    "print (math.floor(a))"
   ]
  },
  {
   "cell_type": "code",
   "execution_count": 29,
   "metadata": {},
   "outputs": [
    {
     "name": "stdout",
     "output_type": "stream",
     "text": [
      "The factorial of 5 is : 120\n"
     ]
    }
   ],
   "source": [
    "# Python code to demonstrate the working of\n",
    "# factorial()\n",
    " \n",
    "# importing \"math\" for mathematical operations\n",
    "import math\n",
    " \n",
    "a = 5\n",
    " \n",
    "# returning the factorial of 5\n",
    "print(\"The factorial of 5 is : \", end=\"\")\n",
    "print(math.factorial(a))"
   ]
  },
  {
   "cell_type": "code",
   "execution_count": 30,
   "metadata": {},
   "outputs": [
    {
     "name": "stdout",
     "output_type": "stream",
     "text": [
      "The gcd of 5 and 15 is : 5\n"
     ]
    }
   ],
   "source": [
    "# Python code to demonstrate the working of\n",
    "# gcd()\n",
    " \n",
    "# importing \"math\" for mathematical operations\n",
    "import math\n",
    " \n",
    "a = 15\n",
    "b = 5\n",
    " \n",
    "# returning the gcd of 15 and 5\n",
    "print (\"The gcd of 5 and 15 is : \", end=\"\")\n",
    "print (math.gcd(b, a))"
   ]
  },
  {
   "cell_type": "code",
   "execution_count": 31,
   "metadata": {},
   "outputs": [
    {
     "name": "stdout",
     "output_type": "stream",
     "text": [
      "The absolute value of -10 is : 10.0\n"
     ]
    }
   ],
   "source": [
    "# Python code to demonstrate the working of\n",
    "# fabs()\n",
    " \n",
    "# importing \"math\" for mathematical operations\n",
    "import math\n",
    " \n",
    "a = -10\n",
    " \n",
    "# returning the absolute value.\n",
    "print (\"The absolute value of -10 is : \", end=\"\")\n",
    "print (math.fabs(a))"
   ]
  },
  {
   "cell_type": "code",
   "execution_count": 32,
   "metadata": {},
   "outputs": [
    {
     "name": "stdout",
     "output_type": "stream",
     "text": [
      "54.598150033144236\n",
      "0.049787068367863944\n",
      "1.0\n"
     ]
    }
   ],
   "source": [
    "# Python3 code to demonstrate\n",
    "# the working of exp()\n",
    "import math\n",
    " \n",
    "# initializing the value\n",
    "test_int = 4\n",
    "test_neg_int = -3\n",
    "test_float = 0.00\n",
    " \n",
    "# checking exp() values\n",
    "# with different numbers\n",
    "print (math.exp(test_int))\n",
    "print (math.exp(test_neg_int))\n",
    "print (math.exp(test_float))"
   ]
  },
  {
   "cell_type": "code",
   "execution_count": 33,
   "metadata": {},
   "outputs": [
    {
     "name": "stdout",
     "output_type": "stream",
     "text": [
      "The value of 3**4 is : 81\n"
     ]
    }
   ],
   "source": [
    "# Python code to demonstrate pow()\n",
    "# version 1\n",
    " \n",
    "print (\"The value of 3**4 is : \",end=\"\")\n",
    " \n",
    "# Returns 81\n",
    "print (pow(3,4))"
   ]
  },
  {
   "cell_type": "code",
   "execution_count": 34,
   "metadata": {},
   "outputs": [
    {
     "name": "stdout",
     "output_type": "stream",
     "text": [
      "The value of log 2 with base 3 is : 0.6309297535714574\n",
      "The value of log2 of 16 is : 4.0\n",
      "The value of log10 of 10000 is : 4.0\n"
     ]
    }
   ],
   "source": [
    "# Python code to demonstrate the working of\n",
    "# logarithm\n",
    " \n",
    "# importing \"math\" for mathematical operations\n",
    "import math\n",
    " \n",
    " \n",
    "# returning the log of 2,3\n",
    "print (\"The value of log 2 with base 3 is : \", end=\"\")\n",
    "print (math.log(2,3))\n",
    " \n",
    "# returning the log2 of 16\n",
    "print (\"The value of log2 of 16 is : \", end=\"\")\n",
    "print (math.log2(16))\n",
    "    \n",
    "# returning the log10 of 10000\n",
    "print (\"The value of log10 of 10000 is : \", end=\"\")\n",
    "print (math.log10(10000))"
   ]
  },
  {
   "cell_type": "code",
   "execution_count": 35,
   "metadata": {},
   "outputs": [
    {
     "name": "stdout",
     "output_type": "stream",
     "text": [
      "0.0\n",
      "2.0\n",
      "1.8708286933869707\n"
     ]
    }
   ],
   "source": [
    "# Python3 program to demonstrate the\n",
    "# sqrt() method\n",
    " \n",
    "# import the math module\n",
    "import math\n",
    " \n",
    "# print the square root of 0\n",
    "print(math.sqrt(0))\n",
    " \n",
    "# print the square root of 4\n",
    "print(math.sqrt(4))\n",
    " \n",
    "# print the square root of 3.5\n",
    "print(math.sqrt(3.5))"
   ]
  },
  {
   "cell_type": "code",
   "execution_count": 36,
   "metadata": {},
   "outputs": [
    {
     "name": "stdout",
     "output_type": "stream",
     "text": [
      "The value of sine of pi/6 is : 0.49999999999999994\n",
      "The value of cosine of pi/6 is : 0.8660254037844387\n",
      "The value of tangent of pi/6 is : 0.5773502691896257\n"
     ]
    }
   ],
   "source": [
    "# Python code to demonstrate the working of\n",
    "# sin(), cos(), and tan()\n",
    " \n",
    "# importing \"math\" for mathematical operations\n",
    "import math\n",
    " \n",
    "a = math.pi/6\n",
    " \n",
    "# returning the value of sine of pi/6\n",
    "print (\"The value of sine of pi/6 is : \", end=\"\")\n",
    "print (math.sin(a))\n",
    " \n",
    "# returning the value of cosine of pi/6\n",
    "print (\"The value of cosine of pi/6 is : \", end=\"\")\n",
    "print (math.cos(a))\n",
    " \n",
    "# returning the value of tangent of pi/6\n",
    "print (\"The value of tangent of pi/6 is : \", end=\"\")\n",
    "print (math.tan(a))"
   ]
  },
  {
   "cell_type": "code",
   "execution_count": null,
   "metadata": {},
   "outputs": [],
   "source": []
  }
 ],
 "metadata": {
  "kernelspec": {
   "display_name": "Python 3",
   "language": "python",
   "name": "python3"
  },
  "language_info": {
   "codemirror_mode": {
    "name": "ipython",
    "version": 3
   },
   "file_extension": ".py",
   "mimetype": "text/x-python",
   "name": "python",
   "nbconvert_exporter": "python",
   "pygments_lexer": "ipython3",
   "version": "3.10.9"
  },
  "vscode": {
   "interpreter": {
    "hash": "e3a928b85d63b2ef9b6ccf12e8d329d0cbc7130b7b94533fcc116c9895f7d050"
   }
  }
 },
 "nbformat": 4,
 "nbformat_minor": 2
}
