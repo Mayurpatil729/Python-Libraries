{
 "cells": [
  {
   "cell_type": "code",
   "execution_count": 1,
   "metadata": {},
   "outputs": [
    {
     "name": "stdout",
     "output_type": "stream",
     "text": [
      "2023-02-05 15:55:15.863064\n"
     ]
    }
   ],
   "source": [
    "import datetime \n",
    "x=datetime.datetime.now()\n",
    "print(x)"
   ]
  },
  {
   "cell_type": "code",
   "execution_count": 2,
   "metadata": {},
   "outputs": [
    {
     "name": "stdout",
     "output_type": "stream",
     "text": [
      "2023-01-04 00:00:00\n"
     ]
    }
   ],
   "source": [
    "print(datetime.datetime(2023,1,4))"
   ]
  },
  {
   "cell_type": "code",
   "execution_count": 23,
   "metadata": {},
   "outputs": [
    {
     "name": "stdout",
     "output_type": "stream",
     "text": [
      "Year :  2023\n",
      "month :  February\n",
      "minute:  05\n",
      "Hours :  16\n",
      "Hours :  04\n"
     ]
    }
   ],
   "source": [
    "now=datetime.datetime.now()\n",
    "year=now.strftime(\"%Y\")\n",
    "month=now.strftime(\"%B\")\n",
    "minute=now.strftime(\"%M\")\n",
    "hours=now.strftime(\"%H\")\n",
    "hours1=now.strftime(\"%I\")\n",
    "# year=now.strftime(\"%M\")\n",
    "# year=now.strftime(\"%M\")\n",
    "print(\"Year : \",year)\n",
    "print(\"month : \",month)\n",
    "print(\"minute: \",minute)\n",
    "print(\"Hours : \",hours)\n",
    "print(\"Hours : \",hours1)"
   ]
  },
  {
   "cell_type": "code",
   "execution_count": 31,
   "metadata": {},
   "outputs": [
    {
     "name": "stdout",
     "output_type": "stream",
     "text": [
      "1675593801.9324546\n",
      "Sun Feb  5 16:13:21 2023\n",
      "Sun Feb  5 16:13:21 2023\n",
      "time.struct_time(tm_year=2023, tm_mon=2, tm_mday=5, tm_hour=16, tm_min=13, tm_sec=21, tm_wday=6, tm_yday=36, tm_isdst=0)\n",
      "2023\n"
     ]
    }
   ],
   "source": [
    "from time import *\n",
    "epoch=time()\n",
    "\n",
    "print(epoch)\n",
    "et=ctime(epoch)\n",
    "print(et)\n",
    "\n",
    "print(ctime())\n",
    "\n"
   ]
  },
  {
   "cell_type": "code",
   "execution_count": 37,
   "metadata": {},
   "outputs": [
    {
     "name": "stdout",
     "output_type": "stream",
     "text": [
      "year: 2023\n",
      "Month: 2\n",
      "Date: 5\n",
      "Hour: 16\n",
      "Minute: 15\n",
      "Second: 38\n"
     ]
    }
   ],
   "source": [
    "stobj = localtime()\n",
    "# print(stobj)\n",
    "print(\"year:\",stobj.tm_year)\n",
    "print(\"Month:\",stobj.tm_mon)\n",
    "print(\"Date:\",stobj.tm_mday)\n",
    "print(\"Hour:\",stobj.tm_hour)\n",
    "print(\"Minute:\",stobj.tm_min)\n",
    "print(\"Second:\",stobj.tm_sec)\n"
   ]
  },
  {
   "cell_type": "code",
   "execution_count": 40,
   "metadata": {},
   "outputs": [
    {
     "name": "stdout",
     "output_type": "stream",
     "text": [
      "5-2-2023\n",
      "16:15:38\n"
     ]
    }
   ],
   "source": [
    "print(stobj.tm_mday,end=\"-\")\n",
    "print(stobj.tm_mon,end=\"-\")\n",
    "print(stobj.tm_year)\n",
    "\n",
    "print(stobj.tm_hour, end=\":\")\n",
    "print(stobj.tm_min, end=\":\")\n",
    "print(stobj.tm_sec)\n"
   ]
  },
  {
   "cell_type": "code",
   "execution_count": null,
   "metadata": {},
   "outputs": [],
   "source": [
    "\n",
    "\n"
   ]
  }
 ],
 "metadata": {
  "kernelspec": {
   "display_name": "Python 3",
   "language": "python",
   "name": "python3"
  },
  "language_info": {
   "codemirror_mode": {
    "name": "ipython",
    "version": 3
   },
   "file_extension": ".py",
   "mimetype": "text/x-python",
   "name": "python",
   "nbconvert_exporter": "python",
   "pygments_lexer": "ipython3",
   "version": "3.10.9"
  },
  "orig_nbformat": 4,
  "vscode": {
   "interpreter": {
    "hash": "e3a928b85d63b2ef9b6ccf12e8d329d0cbc7130b7b94533fcc116c9895f7d050"
   }
  }
 },
 "nbformat": 4,
 "nbformat_minor": 2
}
